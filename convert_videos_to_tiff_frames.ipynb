{
 "cells": [
  {
   "cell_type": "code",
   "execution_count": 1,
   "id": "fe4522d5-ce56-4b4c-a156-c2986374a69a",
   "metadata": {},
   "outputs": [],
   "source": [
    "# Imports\n",
    "import os\n",
    "import cv2\n",
    "import numpy as np\n",
    "from pathlib import Path\n",
    "from tqdm import tqdm\n",
    "import shutil\n",
    "from pprint import pprint"
   ]
  },
  {
   "cell_type": "code",
   "execution_count": 8,
   "id": "fce40265-86fd-417a-b587-04573d40dfd4",
   "metadata": {},
   "outputs": [],
   "source": [
    "# Configuration \n",
    "\n",
    "input_dir   = Path(r\"C:\\Users\\andre\\Documents\\Work\\Projects\\AnemoneTracking\\data\\original\\CPF_CYP\\\\\")         # Folder containing .mp4 videos\n",
    "output_dir  = Path(r\"C:\\Users\\andre\\Documents\\Work\\Projects\\AnemoneTracking\\data\\processed\\CPF_CYP\\\\\")       # Folder to store TIFF frames\n",
    "\n",
    "input_dir.mkdir(parents=True, exist_ok=True)\n",
    "output_dir.mkdir(parents=True, exist_ok=True)"
   ]
  },
  {
   "cell_type": "code",
   "execution_count": 11,
   "id": "3ddf5ff4-0c75-40c6-9887-e0f2dbe36ea3",
   "metadata": {},
   "outputs": [],
   "source": [
    "# Functions\n",
    "def convert_videos_to_tiff_frames(input_folder, output_folder):\n",
    "    input_folder = Path(input_folder)\n",
    "    output_folder = Path(output_folder)\n",
    "    for video_file in input_folder.glob(\"*.mp4\"):\n",
    "        video_name = video_file.stem\n",
    "        video_output_folder = output_folder / video_name\n",
    "        video_output_folder.mkdir(parents=True, exist_ok=True)\n",
    "\n",
    "        cap = cv2.VideoCapture(str(video_file))\n",
    "        if not cap.isOpened():\n",
    "            print(f\"Failed to open {video_file}\")\n",
    "            continue\n",
    "\n",
    "        # Metadata\n",
    "        frame_count = int(cap.get(cv2.CAP_PROP_FRAME_COUNT))\n",
    "        fps = cap.get(cv2.CAP_PROP_FPS)\n",
    "        width = int(cap.get(cv2.CAP_PROP_FRAME_WIDTH))\n",
    "        height = int(cap.get(cv2.CAP_PROP_FRAME_HEIGHT))\n",
    "\n",
    "        print(f\"Processing '{video_name}': {frame_count} frames, {fps} FPS, {width}x{height}\")\n",
    "\n",
    "        frame_idx = 0\n",
    "        with tqdm(total=frame_count, desc=f\"Extracting {video_name}\") as pbar:\n",
    "            while True:\n",
    "                ret, frame = cap.read()\n",
    "                if not ret:\n",
    "                    break\n",
    "                tiff_path = video_output_folder / f\"frame_{frame_idx:04d}.tiff\"\n",
    "                cv2.imwrite(str(tiff_path), frame)\n",
    "                frame_idx += 1\n",
    "                pbar.update(1)\n",
    "\n",
    "        cap.release()\n",
    "\n",
    "def list_output_structure(folder):\n",
    "    structure = {}\n",
    "    for subfolder in sorted(Path(folder).iterdir()):\n",
    "        if subfolder.is_dir():\n",
    "            structure[subfolder.name] = sorted(f.name for f in subfolder.glob(\"*.tiff\"))\n",
    "    return structure        "
   ]
  },
  {
   "cell_type": "code",
   "execution_count": 13,
   "id": "70a47fd6-c4d3-4cf4-8f6c-4d4c3ccc0889",
   "metadata": {
    "scrolled": true
   },
   "outputs": [
    {
     "name": "stdout",
     "output_type": "stream",
     "text": [
      "Processing 'CFP_CYP 2 A ': 966 frames, 30.0 FPS, 1920x1080\n"
     ]
    },
    {
     "name": "stderr",
     "output_type": "stream",
     "text": [
      "Extracting CFP_CYP 2 A :   4%|█▉                                                     | 35/966 [00:00<00:05, 183.31it/s]"
     ]
    },
    {
     "name": "stdout",
     "output_type": "stream",
     "text": [
      "C:\\Users\\andre\\Documents\\Work\\Projects\\AnemoneTracking\\data\\processed\\CFP_CYP 2 A \\frame_0000.tiff\n",
      "C:\\Users\\andre\\Documents\\Work\\Projects\\AnemoneTracking\\data\\processed\\CFP_CYP 2 A \\frame_0001.tiff\n",
      "C:\\Users\\andre\\Documents\\Work\\Projects\\AnemoneTracking\\data\\processed\\CFP_CYP 2 A \\frame_0002.tiff\n",
      "C:\\Users\\andre\\Documents\\Work\\Projects\\AnemoneTracking\\data\\processed\\CFP_CYP 2 A \\frame_0003.tiff\n",
      "C:\\Users\\andre\\Documents\\Work\\Projects\\AnemoneTracking\\data\\processed\\CFP_CYP 2 A \\frame_0004.tiff\n",
      "C:\\Users\\andre\\Documents\\Work\\Projects\\AnemoneTracking\\data\\processed\\CFP_CYP 2 A \\frame_0005.tiff\n",
      "C:\\Users\\andre\\Documents\\Work\\Projects\\AnemoneTracking\\data\\processed\\CFP_CYP 2 A \\frame_0006.tiff\n",
      "C:\\Users\\andre\\Documents\\Work\\Projects\\AnemoneTracking\\data\\processed\\CFP_CYP 2 A \\frame_0007.tiff\n",
      "C:\\Users\\andre\\Documents\\Work\\Projects\\AnemoneTracking\\data\\processed\\CFP_CYP 2 A \\frame_0008.tiff\n",
      "C:\\Users\\andre\\Documents\\Work\\Projects\\AnemoneTracking\\data\\processed\\CFP_CYP 2 A \\frame_0009.tiff\n",
      "C:\\Users\\andre\\Documents\\Work\\Projects\\AnemoneTracking\\data\\processed\\CFP_CYP 2 A \\frame_0010.tiff\n",
      "C:\\Users\\andre\\Documents\\Work\\Projects\\AnemoneTracking\\data\\processed\\CFP_CYP 2 A \\frame_0011.tiff\n",
      "C:\\Users\\andre\\Documents\\Work\\Projects\\AnemoneTracking\\data\\processed\\CFP_CYP 2 A \\frame_0012.tiff\n",
      "C:\\Users\\andre\\Documents\\Work\\Projects\\AnemoneTracking\\data\\processed\\CFP_CYP 2 A \\frame_0013.tiff\n",
      "C:\\Users\\andre\\Documents\\Work\\Projects\\AnemoneTracking\\data\\processed\\CFP_CYP 2 A \\frame_0014.tiff\n",
      "C:\\Users\\andre\\Documents\\Work\\Projects\\AnemoneTracking\\data\\processed\\CFP_CYP 2 A \\frame_0015.tiff\n",
      "C:\\Users\\andre\\Documents\\Work\\Projects\\AnemoneTracking\\data\\processed\\CFP_CYP 2 A \\frame_0016.tiff\n",
      "C:\\Users\\andre\\Documents\\Work\\Projects\\AnemoneTracking\\data\\processed\\CFP_CYP 2 A \\frame_0017.tiff\n",
      "C:\\Users\\andre\\Documents\\Work\\Projects\\AnemoneTracking\\data\\processed\\CFP_CYP 2 A \\frame_0018.tiff\n",
      "C:\\Users\\andre\\Documents\\Work\\Projects\\AnemoneTracking\\data\\processed\\CFP_CYP 2 A \\frame_0019.tiff\n",
      "C:\\Users\\andre\\Documents\\Work\\Projects\\AnemoneTracking\\data\\processed\\CFP_CYP 2 A \\frame_0020.tiff\n",
      "C:\\Users\\andre\\Documents\\Work\\Projects\\AnemoneTracking\\data\\processed\\CFP_CYP 2 A \\frame_0021.tiff\n",
      "C:\\Users\\andre\\Documents\\Work\\Projects\\AnemoneTracking\\data\\processed\\CFP_CYP 2 A \\frame_0022.tiff\n",
      "C:\\Users\\andre\\Documents\\Work\\Projects\\AnemoneTracking\\data\\processed\\CFP_CYP 2 A \\frame_0023.tiff\n",
      "C:\\Users\\andre\\Documents\\Work\\Projects\\AnemoneTracking\\data\\processed\\CFP_CYP 2 A \\frame_0024.tiff\n",
      "C:\\Users\\andre\\Documents\\Work\\Projects\\AnemoneTracking\\data\\processed\\CFP_CYP 2 A \\frame_0025.tiff\n",
      "C:\\Users\\andre\\Documents\\Work\\Projects\\AnemoneTracking\\data\\processed\\CFP_CYP 2 A \\frame_0026.tiff\n",
      "C:\\Users\\andre\\Documents\\Work\\Projects\\AnemoneTracking\\data\\processed\\CFP_CYP 2 A \\frame_0027.tiff\n",
      "C:\\Users\\andre\\Documents\\Work\\Projects\\AnemoneTracking\\data\\processed\\CFP_CYP 2 A \\frame_0028.tiff\n",
      "C:\\Users\\andre\\Documents\\Work\\Projects\\AnemoneTracking\\data\\processed\\CFP_CYP 2 A \\frame_0029.tiff\n",
      "C:\\Users\\andre\\Documents\\Work\\Projects\\AnemoneTracking\\data\\processed\\CFP_CYP 2 A \\frame_0030.tiff\n",
      "C:\\Users\\andre\\Documents\\Work\\Projects\\AnemoneTracking\\data\\processed\\CFP_CYP 2 A \\frame_0031.tiff\n",
      "C:\\Users\\andre\\Documents\\Work\\Projects\\AnemoneTracking\\data\\processed\\CFP_CYP 2 A \\frame_0032.tiff\n",
      "C:\\Users\\andre\\Documents\\Work\\Projects\\AnemoneTracking\\data\\processed\\CFP_CYP 2 A \\frame_0033.tiff\n",
      "C:\\Users\\andre\\Documents\\Work\\Projects\\AnemoneTracking\\data\\processed\\CFP_CYP 2 A \\frame_0034.tiff\n",
      "C:\\Users\\andre\\Documents\\Work\\Projects\\AnemoneTracking\\data\\processed\\CFP_CYP 2 A \\frame_0035.tiff\n",
      "C:\\Users\\andre\\Documents\\Work\\Projects\\AnemoneTracking\\data\\processed\\CFP_CYP 2 A \\frame_0036.tiff\n",
      "C:\\Users\\andre\\Documents\\Work\\Projects\\AnemoneTracking\\data\\processed\\CFP_CYP 2 A \\frame_0037.tiff\n",
      "C:\\Users\\andre\\Documents\\Work\\Projects\\AnemoneTracking\\data\\processed\\CFP_CYP 2 A \\frame_0038.tiff\n",
      "C:\\Users\\andre\\Documents\\Work\\Projects\\AnemoneTracking\\data\\processed\\CFP_CYP 2 A \\frame_0039.tiff\n",
      "C:\\Users\\andre\\Documents\\Work\\Projects\\AnemoneTracking\\data\\processed\\CFP_CYP 2 A \\frame_0040.tiff\n",
      "C:\\Users\\andre\\Documents\\Work\\Projects\\AnemoneTracking\\data\\processed\\CFP_CYP 2 A \\frame_0041.tiff\n",
      "C:\\Users\\andre\\Documents\\Work\\Projects\\AnemoneTracking\\data\\processed\\CFP_CYP 2 A \\frame_0042.tiff\n",
      "C:\\Users\\andre\\Documents\\Work\\Projects\\AnemoneTracking\\data\\processed\\CFP_CYP 2 A \\frame_0043.tiff\n",
      "C:\\Users\\andre\\Documents\\Work\\Projects\\AnemoneTracking\\data\\processed\\CFP_CYP 2 A \\frame_0044.tiff\n",
      "C:\\Users\\andre\\Documents\\Work\\Projects\\AnemoneTracking\\data\\processed\\CFP_CYP 2 A \\frame_0045.tiff\n",
      "C:\\Users\\andre\\Documents\\Work\\Projects\\AnemoneTracking\\data\\processed\\CFP_CYP 2 A \\frame_0046.tiff\n",
      "C:\\Users\\andre\\Documents\\Work\\Projects\\AnemoneTracking\\data\\processed\\CFP_CYP 2 A \\frame_0047.tiff\n",
      "C:\\Users\\andre\\Documents\\Work\\Projects\\AnemoneTracking\\data\\processed\\CFP_CYP 2 A \\frame_0048.tiff\n"
     ]
    },
    {
     "name": "stderr",
     "output_type": "stream",
     "text": [
      "Extracting CFP_CYP 2 A :   6%|███▎                                                   | 58/966 [00:00<00:04, 197.05it/s]"
     ]
    },
    {
     "name": "stdout",
     "output_type": "stream",
     "text": [
      "C:\\Users\\andre\\Documents\\Work\\Projects\\AnemoneTracking\\data\\processed\\CFP_CYP 2 A \\frame_0049.tiff\n",
      "C:\\Users\\andre\\Documents\\Work\\Projects\\AnemoneTracking\\data\\processed\\CFP_CYP 2 A \\frame_0050.tiff\n",
      "C:\\Users\\andre\\Documents\\Work\\Projects\\AnemoneTracking\\data\\processed\\CFP_CYP 2 A \\frame_0051.tiff\n",
      "C:\\Users\\andre\\Documents\\Work\\Projects\\AnemoneTracking\\data\\processed\\CFP_CYP 2 A \\frame_0052.tiff\n",
      "C:\\Users\\andre\\Documents\\Work\\Projects\\AnemoneTracking\\data\\processed\\CFP_CYP 2 A \\frame_0053.tiff\n",
      "C:\\Users\\andre\\Documents\\Work\\Projects\\AnemoneTracking\\data\\processed\\CFP_CYP 2 A \\frame_0054.tiff\n",
      "C:\\Users\\andre\\Documents\\Work\\Projects\\AnemoneTracking\\data\\processed\\CFP_CYP 2 A \\frame_0055.tiff\n",
      "C:\\Users\\andre\\Documents\\Work\\Projects\\AnemoneTracking\\data\\processed\\CFP_CYP 2 A \\frame_0056.tiff\n",
      "C:\\Users\\andre\\Documents\\Work\\Projects\\AnemoneTracking\\data\\processed\\CFP_CYP 2 A \\frame_0057.tiff\n",
      "C:\\Users\\andre\\Documents\\Work\\Projects\\AnemoneTracking\\data\\processed\\CFP_CYP 2 A \\frame_0058.tiff\n",
      "C:\\Users\\andre\\Documents\\Work\\Projects\\AnemoneTracking\\data\\processed\\CFP_CYP 2 A \\frame_0059.tiff\n",
      "C:\\Users\\andre\\Documents\\Work\\Projects\\AnemoneTracking\\data\\processed\\CFP_CYP 2 A \\frame_0060.tiff\n",
      "C:\\Users\\andre\\Documents\\Work\\Projects\\AnemoneTracking\\data\\processed\\CFP_CYP 2 A \\frame_0061.tiff\n",
      "C:\\Users\\andre\\Documents\\Work\\Projects\\AnemoneTracking\\data\\processed\\CFP_CYP 2 A \\frame_0062.tiff\n",
      "C:\\Users\\andre\\Documents\\Work\\Projects\\AnemoneTracking\\data\\processed\\CFP_CYP 2 A \\frame_0063.tiff\n",
      "C:\\Users\\andre\\Documents\\Work\\Projects\\AnemoneTracking\\data\\processed\\CFP_CYP 2 A \\frame_0064.tiff\n",
      "C:\\Users\\andre\\Documents\\Work\\Projects\\AnemoneTracking\\data\\processed\\CFP_CYP 2 A \\frame_0065.tiff\n",
      "C:\\Users\\andre\\Documents\\Work\\Projects\\AnemoneTracking\\data\\processed\\CFP_CYP 2 A \\frame_0066.tiff\n",
      "C:\\Users\\andre\\Documents\\Work\\Projects\\AnemoneTracking\\data\\processed\\CFP_CYP 2 A \\frame_0067.tiff\n",
      "C:\\Users\\andre\\Documents\\Work\\Projects\\AnemoneTracking\\data\\processed\\CFP_CYP 2 A \\frame_0068.tiff\n",
      "C:\\Users\\andre\\Documents\\Work\\Projects\\AnemoneTracking\\data\\processed\\CFP_CYP 2 A \\frame_0069.tiff\n",
      "C:\\Users\\andre\\Documents\\Work\\Projects\\AnemoneTracking\\data\\processed\\CFP_CYP 2 A \\frame_0070.tiff\n",
      "C:\\Users\\andre\\Documents\\Work\\Projects\\AnemoneTracking\\data\\processed\\CFP_CYP 2 A \\frame_0071.tiff\n",
      "C:\\Users\\andre\\Documents\\Work\\Projects\\AnemoneTracking\\data\\processed\\CFP_CYP 2 A \\frame_0072.tiff\n",
      "C:\\Users\\andre\\Documents\\Work\\Projects\\AnemoneTracking\\data\\processed\\CFP_CYP 2 A \\frame_0073.tiff\n",
      "C:\\Users\\andre\\Documents\\Work\\Projects\\AnemoneTracking\\data\\processed\\CFP_CYP 2 A \\frame_0074.tiff\n",
      "C:\\Users\\andre\\Documents\\Work\\Projects\\AnemoneTracking\\data\\processed\\CFP_CYP 2 A \\frame_0075.tiff\n",
      "C:\\Users\\andre\\Documents\\Work\\Projects\\AnemoneTracking\\data\\processed\\CFP_CYP 2 A \\frame_0076.tiff\n",
      "C:\\Users\\andre\\Documents\\Work\\Projects\\AnemoneTracking\\data\\processed\\CFP_CYP 2 A \\frame_0077.tiff\n"
     ]
    },
    {
     "name": "stderr",
     "output_type": "stream",
     "text": [
      "Extracting CFP_CYP 2 A :   8%|████▌                                                  | 81/966 [00:00<00:04, 209.59it/s]"
     ]
    },
    {
     "name": "stdout",
     "output_type": "stream",
     "text": [
      "C:\\Users\\andre\\Documents\\Work\\Projects\\AnemoneTracking\\data\\processed\\CFP_CYP 2 A \\frame_0078.tiff\n",
      "C:\\Users\\andre\\Documents\\Work\\Projects\\AnemoneTracking\\data\\processed\\CFP_CYP 2 A \\frame_0079.tiff\n",
      "C:\\Users\\andre\\Documents\\Work\\Projects\\AnemoneTracking\\data\\processed\\CFP_CYP 2 A \\frame_0080.tiff\n",
      "C:\\Users\\andre\\Documents\\Work\\Projects\\AnemoneTracking\\data\\processed\\CFP_CYP 2 A \\frame_0081.tiff\n",
      "C:\\Users\\andre\\Documents\\Work\\Projects\\AnemoneTracking\\data\\processed\\CFP_CYP 2 A \\frame_0082.tiff\n",
      "C:\\Users\\andre\\Documents\\Work\\Projects\\AnemoneTracking\\data\\processed\\CFP_CYP 2 A \\frame_0083.tiff\n",
      "C:\\Users\\andre\\Documents\\Work\\Projects\\AnemoneTracking\\data\\processed\\CFP_CYP 2 A \\frame_0084.tiff\n",
      "C:\\Users\\andre\\Documents\\Work\\Projects\\AnemoneTracking\\data\\processed\\CFP_CYP 2 A \\frame_0085.tiff\n",
      "C:\\Users\\andre\\Documents\\Work\\Projects\\AnemoneTracking\\data\\processed\\CFP_CYP 2 A \\frame_0086.tiff\n",
      "C:\\Users\\andre\\Documents\\Work\\Projects\\AnemoneTracking\\data\\processed\\CFP_CYP 2 A \\frame_0087.tiff\n",
      "C:\\Users\\andre\\Documents\\Work\\Projects\\AnemoneTracking\\data\\processed\\CFP_CYP 2 A \\frame_0088.tiff\n",
      "C:\\Users\\andre\\Documents\\Work\\Projects\\AnemoneTracking\\data\\processed\\CFP_CYP 2 A \\frame_0089.tiff\n",
      "C:\\Users\\andre\\Documents\\Work\\Projects\\AnemoneTracking\\data\\processed\\CFP_CYP 2 A \\frame_0090.tiff\n",
      "C:\\Users\\andre\\Documents\\Work\\Projects\\AnemoneTracking\\data\\processed\\CFP_CYP 2 A \\frame_0091.tiff\n",
      "C:\\Users\\andre\\Documents\\Work\\Projects\\AnemoneTracking\\data\\processed\\CFP_CYP 2 A \\frame_0092.tiff\n",
      "C:\\Users\\andre\\Documents\\Work\\Projects\\AnemoneTracking\\data\\processed\\CFP_CYP 2 A \\frame_0093.tiff\n",
      "C:\\Users\\andre\\Documents\\Work\\Projects\\AnemoneTracking\\data\\processed\\CFP_CYP 2 A \\frame_0094.tiff\n",
      "C:\\Users\\andre\\Documents\\Work\\Projects\\AnemoneTracking\\data\\processed\\CFP_CYP 2 A \\frame_0095.tiff\n",
      "C:\\Users\\andre\\Documents\\Work\\Projects\\AnemoneTracking\\data\\processed\\CFP_CYP 2 A \\frame_0096.tiff\n"
     ]
    },
    {
     "name": "stderr",
     "output_type": "stream",
     "text": [
      "Extracting CFP_CYP 2 A :  11%|█████▊                                                | 104/966 [00:00<00:03, 215.68it/s]"
     ]
    },
    {
     "name": "stdout",
     "output_type": "stream",
     "text": [
      "C:\\Users\\andre\\Documents\\Work\\Projects\\AnemoneTracking\\data\\processed\\CFP_CYP 2 A \\frame_0097.tiff\n",
      "C:\\Users\\andre\\Documents\\Work\\Projects\\AnemoneTracking\\data\\processed\\CFP_CYP 2 A \\frame_0098.tiff\n",
      "C:\\Users\\andre\\Documents\\Work\\Projects\\AnemoneTracking\\data\\processed\\CFP_CYP 2 A \\frame_0099.tiff\n",
      "C:\\Users\\andre\\Documents\\Work\\Projects\\AnemoneTracking\\data\\processed\\CFP_CYP 2 A \\frame_0100.tiff\n",
      "C:\\Users\\andre\\Documents\\Work\\Projects\\AnemoneTracking\\data\\processed\\CFP_CYP 2 A \\frame_0101.tiff\n",
      "C:\\Users\\andre\\Documents\\Work\\Projects\\AnemoneTracking\\data\\processed\\CFP_CYP 2 A \\frame_0102.tiff\n",
      "C:\\Users\\andre\\Documents\\Work\\Projects\\AnemoneTracking\\data\\processed\\CFP_CYP 2 A \\frame_0103.tiff\n",
      "C:\\Users\\andre\\Documents\\Work\\Projects\\AnemoneTracking\\data\\processed\\CFP_CYP 2 A \\frame_0104.tiff\n",
      "C:\\Users\\andre\\Documents\\Work\\Projects\\AnemoneTracking\\data\\processed\\CFP_CYP 2 A \\frame_0105.tiff\n",
      "C:\\Users\\andre\\Documents\\Work\\Projects\\AnemoneTracking\\data\\processed\\CFP_CYP 2 A \\frame_0106.tiff\n",
      "C:\\Users\\andre\\Documents\\Work\\Projects\\AnemoneTracking\\data\\processed\\CFP_CYP 2 A \\frame_0107.tiff\n",
      "C:\\Users\\andre\\Documents\\Work\\Projects\\AnemoneTracking\\data\\processed\\CFP_CYP 2 A \\frame_0108.tiff\n",
      "C:\\Users\\andre\\Documents\\Work\\Projects\\AnemoneTracking\\data\\processed\\CFP_CYP 2 A \\frame_0109.tiff\n",
      "C:\\Users\\andre\\Documents\\Work\\Projects\\AnemoneTracking\\data\\processed\\CFP_CYP 2 A \\frame_0110.tiff\n",
      "C:\\Users\\andre\\Documents\\Work\\Projects\\AnemoneTracking\\data\\processed\\CFP_CYP 2 A \\frame_0111.tiff\n",
      "C:\\Users\\andre\\Documents\\Work\\Projects\\AnemoneTracking\\data\\processed\\CFP_CYP 2 A \\frame_0112.tiff\n",
      "C:\\Users\\andre\\Documents\\Work\\Projects\\AnemoneTracking\\data\\processed\\CFP_CYP 2 A \\frame_0113.tiff\n",
      "C:\\Users\\andre\\Documents\\Work\\Projects\\AnemoneTracking\\data\\processed\\CFP_CYP 2 A \\frame_0114.tiff\n",
      "C:\\Users\\andre\\Documents\\Work\\Projects\\AnemoneTracking\\data\\processed\\CFP_CYP 2 A \\frame_0115.tiff\n",
      "C:\\Users\\andre\\Documents\\Work\\Projects\\AnemoneTracking\\data\\processed\\CFP_CYP 2 A \\frame_0116.tiff\n",
      "C:\\Users\\andre\\Documents\\Work\\Projects\\AnemoneTracking\\data\\processed\\CFP_CYP 2 A \\frame_0117.tiff\n",
      "C:\\Users\\andre\\Documents\\Work\\Projects\\AnemoneTracking\\data\\processed\\CFP_CYP 2 A \\frame_0118.tiff\n",
      "C:\\Users\\andre\\Documents\\Work\\Projects\\AnemoneTracking\\data\\processed\\CFP_CYP 2 A \\frame_0119.tiff\n",
      "C:\\Users\\andre\\Documents\\Work\\Projects\\AnemoneTracking\\data\\processed\\CFP_CYP 2 A \\frame_0120.tiff\n",
      "C:\\Users\\andre\\Documents\\Work\\Projects\\AnemoneTracking\\data\\processed\\CFP_CYP 2 A \\frame_0121.tiff\n",
      "C:\\Users\\andre\\Documents\\Work\\Projects\\AnemoneTracking\\data\\processed\\CFP_CYP 2 A \\frame_0122.tiff\n",
      "C:\\Users\\andre\\Documents\\Work\\Projects\\AnemoneTracking\\data\\processed\\CFP_CYP 2 A \\frame_0123.tiff\n",
      "C:\\Users\\andre\\Documents\\Work\\Projects\\AnemoneTracking\\data\\processed\\CFP_CYP 2 A \\frame_0124.tiff\n",
      "C:\\Users\\andre\\Documents\\Work\\Projects\\AnemoneTracking\\data\\processed\\CFP_CYP 2 A \\frame_0125.tiff\n",
      "C:\\Users\\andre\\Documents\\Work\\Projects\\AnemoneTracking\\data\\processed\\CFP_CYP 2 A \\frame_0126.tiff\n"
     ]
    },
    {
     "name": "stderr",
     "output_type": "stream",
     "text": [
      "Extracting CFP_CYP 2 A :  13%|███████▏                                              | 128/966 [00:00<00:03, 222.65it/s]"
     ]
    },
    {
     "name": "stdout",
     "output_type": "stream",
     "text": [
      "C:\\Users\\andre\\Documents\\Work\\Projects\\AnemoneTracking\\data\\processed\\CFP_CYP 2 A \\frame_0127.tiff\n",
      "C:\\Users\\andre\\Documents\\Work\\Projects\\AnemoneTracking\\data\\processed\\CFP_CYP 2 A \\frame_0128.tiff\n",
      "C:\\Users\\andre\\Documents\\Work\\Projects\\AnemoneTracking\\data\\processed\\CFP_CYP 2 A \\frame_0129.tiff\n",
      "C:\\Users\\andre\\Documents\\Work\\Projects\\AnemoneTracking\\data\\processed\\CFP_CYP 2 A \\frame_0130.tiff\n",
      "C:\\Users\\andre\\Documents\\Work\\Projects\\AnemoneTracking\\data\\processed\\CFP_CYP 2 A \\frame_0131.tiff\n",
      "C:\\Users\\andre\\Documents\\Work\\Projects\\AnemoneTracking\\data\\processed\\CFP_CYP 2 A \\frame_0132.tiff\n",
      "C:\\Users\\andre\\Documents\\Work\\Projects\\AnemoneTracking\\data\\processed\\CFP_CYP 2 A \\frame_0133.tiff\n",
      "C:\\Users\\andre\\Documents\\Work\\Projects\\AnemoneTracking\\data\\processed\\CFP_CYP 2 A \\frame_0134.tiff\n",
      "C:\\Users\\andre\\Documents\\Work\\Projects\\AnemoneTracking\\data\\processed\\CFP_CYP 2 A \\frame_0135.tiff\n",
      "C:\\Users\\andre\\Documents\\Work\\Projects\\AnemoneTracking\\data\\processed\\CFP_CYP 2 A \\frame_0136.tiff\n",
      "C:\\Users\\andre\\Documents\\Work\\Projects\\AnemoneTracking\\data\\processed\\CFP_CYP 2 A \\frame_0137.tiff\n",
      "C:\\Users\\andre\\Documents\\Work\\Projects\\AnemoneTracking\\data\\processed\\CFP_CYP 2 A \\frame_0138.tiff\n",
      "C:\\Users\\andre\\Documents\\Work\\Projects\\AnemoneTracking\\data\\processed\\CFP_CYP 2 A \\frame_0139.tiff\n",
      "C:\\Users\\andre\\Documents\\Work\\Projects\\AnemoneTracking\\data\\processed\\CFP_CYP 2 A \\frame_0140.tiff\n",
      "C:\\Users\\andre\\Documents\\Work\\Projects\\AnemoneTracking\\data\\processed\\CFP_CYP 2 A \\frame_0141.tiff\n",
      "C:\\Users\\andre\\Documents\\Work\\Projects\\AnemoneTracking\\data\\processed\\CFP_CYP 2 A \\frame_0142.tiff\n",
      "C:\\Users\\andre\\Documents\\Work\\Projects\\AnemoneTracking\\data\\processed\\CFP_CYP 2 A \\frame_0143.tiff\n"
     ]
    },
    {
     "name": "stderr",
     "output_type": "stream",
     "text": [
      "Extracting CFP_CYP 2 A :  16%|████████▍                                             | 152/966 [00:00<00:03, 227.06it/s]"
     ]
    },
    {
     "name": "stdout",
     "output_type": "stream",
     "text": [
      "C:\\Users\\andre\\Documents\\Work\\Projects\\AnemoneTracking\\data\\processed\\CFP_CYP 2 A \\frame_0144.tiff\n",
      "C:\\Users\\andre\\Documents\\Work\\Projects\\AnemoneTracking\\data\\processed\\CFP_CYP 2 A \\frame_0145.tiff\n",
      "C:\\Users\\andre\\Documents\\Work\\Projects\\AnemoneTracking\\data\\processed\\CFP_CYP 2 A \\frame_0146.tiff\n",
      "C:\\Users\\andre\\Documents\\Work\\Projects\\AnemoneTracking\\data\\processed\\CFP_CYP 2 A \\frame_0147.tiff\n",
      "C:\\Users\\andre\\Documents\\Work\\Projects\\AnemoneTracking\\data\\processed\\CFP_CYP 2 A \\frame_0148.tiff\n",
      "C:\\Users\\andre\\Documents\\Work\\Projects\\AnemoneTracking\\data\\processed\\CFP_CYP 2 A \\frame_0149.tiff\n",
      "C:\\Users\\andre\\Documents\\Work\\Projects\\AnemoneTracking\\data\\processed\\CFP_CYP 2 A \\frame_0150.tiff\n",
      "C:\\Users\\andre\\Documents\\Work\\Projects\\AnemoneTracking\\data\\processed\\CFP_CYP 2 A \\frame_0151.tiff\n",
      "C:\\Users\\andre\\Documents\\Work\\Projects\\AnemoneTracking\\data\\processed\\CFP_CYP 2 A \\frame_0152.tiff\n",
      "C:\\Users\\andre\\Documents\\Work\\Projects\\AnemoneTracking\\data\\processed\\CFP_CYP 2 A \\frame_0153.tiff\n",
      "C:\\Users\\andre\\Documents\\Work\\Projects\\AnemoneTracking\\data\\processed\\CFP_CYP 2 A \\frame_0154.tiff\n",
      "C:\\Users\\andre\\Documents\\Work\\Projects\\AnemoneTracking\\data\\processed\\CFP_CYP 2 A \\frame_0155.tiff\n",
      "C:\\Users\\andre\\Documents\\Work\\Projects\\AnemoneTracking\\data\\processed\\CFP_CYP 2 A \\frame_0156.tiff\n",
      "C:\\Users\\andre\\Documents\\Work\\Projects\\AnemoneTracking\\data\\processed\\CFP_CYP 2 A \\frame_0157.tiff\n",
      "C:\\Users\\andre\\Documents\\Work\\Projects\\AnemoneTracking\\data\\processed\\CFP_CYP 2 A \\frame_0158.tiff\n",
      "C:\\Users\\andre\\Documents\\Work\\Projects\\AnemoneTracking\\data\\processed\\CFP_CYP 2 A \\frame_0159.tiff\n",
      "C:\\Users\\andre\\Documents\\Work\\Projects\\AnemoneTracking\\data\\processed\\CFP_CYP 2 A \\frame_0160.tiff\n",
      "C:\\Users\\andre\\Documents\\Work\\Projects\\AnemoneTracking\\data\\processed\\CFP_CYP 2 A \\frame_0161.tiff\n",
      "C:\\Users\\andre\\Documents\\Work\\Projects\\AnemoneTracking\\data\\processed\\CFP_CYP 2 A \\frame_0162.tiff\n",
      "C:\\Users\\andre\\Documents\\Work\\Projects\\AnemoneTracking\\data\\processed\\CFP_CYP 2 A \\frame_0163.tiff\n",
      "C:\\Users\\andre\\Documents\\Work\\Projects\\AnemoneTracking\\data\\processed\\CFP_CYP 2 A \\frame_0164.tiff\n",
      "C:\\Users\\andre\\Documents\\Work\\Projects\\AnemoneTracking\\data\\processed\\CFP_CYP 2 A \\frame_0165.tiff\n",
      "C:\\Users\\andre\\Documents\\Work\\Projects\\AnemoneTracking\\data\\processed\\CFP_CYP 2 A \\frame_0166.tiff\n",
      "C:\\Users\\andre\\Documents\\Work\\Projects\\AnemoneTracking\\data\\processed\\CFP_CYP 2 A \\frame_0167.tiff\n",
      "C:\\Users\\andre\\Documents\\Work\\Projects\\AnemoneTracking\\data\\processed\\CFP_CYP 2 A \\frame_0168.tiff\n",
      "C:\\Users\\andre\\Documents\\Work\\Projects\\AnemoneTracking\\data\\processed\\CFP_CYP 2 A \\frame_0169.tiff\n",
      "C:\\Users\\andre\\Documents\\Work\\Projects\\AnemoneTracking\\data\\processed\\CFP_CYP 2 A \\frame_0170.tiff\n",
      "C:\\Users\\andre\\Documents\\Work\\Projects\\AnemoneTracking\\data\\processed\\CFP_CYP 2 A \\frame_0171.tiff\n",
      "C:\\Users\\andre\\Documents\\Work\\Projects\\AnemoneTracking\\data\\processed\\CFP_CYP 2 A \\frame_0172.tiff\n",
      "C:\\Users\\andre\\Documents\\Work\\Projects\\AnemoneTracking\\data\\processed\\CFP_CYP 2 A \\frame_0173.tiff\n",
      "C:\\Users\\andre\\Documents\\Work\\Projects\\AnemoneTracking\\data\\processed\\CFP_CYP 2 A \\frame_0174.tiff\n"
     ]
    },
    {
     "name": "stderr",
     "output_type": "stream",
     "text": [
      "Extracting CFP_CYP 2 A :  18%|█████████▉                                            | 177/966 [00:00<00:03, 232.11it/s]"
     ]
    },
    {
     "name": "stdout",
     "output_type": "stream",
     "text": [
      "C:\\Users\\andre\\Documents\\Work\\Projects\\AnemoneTracking\\data\\processed\\CFP_CYP 2 A \\frame_0175.tiff\n",
      "C:\\Users\\andre\\Documents\\Work\\Projects\\AnemoneTracking\\data\\processed\\CFP_CYP 2 A \\frame_0176.tiff\n",
      "C:\\Users\\andre\\Documents\\Work\\Projects\\AnemoneTracking\\data\\processed\\CFP_CYP 2 A \\frame_0177.tiff\n",
      "C:\\Users\\andre\\Documents\\Work\\Projects\\AnemoneTracking\\data\\processed\\CFP_CYP 2 A \\frame_0178.tiff\n",
      "C:\\Users\\andre\\Documents\\Work\\Projects\\AnemoneTracking\\data\\processed\\CFP_CYP 2 A \\frame_0179.tiff\n",
      "C:\\Users\\andre\\Documents\\Work\\Projects\\AnemoneTracking\\data\\processed\\CFP_CYP 2 A \\frame_0180.tiff\n",
      "C:\\Users\\andre\\Documents\\Work\\Projects\\AnemoneTracking\\data\\processed\\CFP_CYP 2 A \\frame_0181.tiff\n",
      "C:\\Users\\andre\\Documents\\Work\\Projects\\AnemoneTracking\\data\\processed\\CFP_CYP 2 A \\frame_0182.tiff\n",
      "C:\\Users\\andre\\Documents\\Work\\Projects\\AnemoneTracking\\data\\processed\\CFP_CYP 2 A \\frame_0183.tiff\n",
      "C:\\Users\\andre\\Documents\\Work\\Projects\\AnemoneTracking\\data\\processed\\CFP_CYP 2 A \\frame_0184.tiff\n",
      "C:\\Users\\andre\\Documents\\Work\\Projects\\AnemoneTracking\\data\\processed\\CFP_CYP 2 A \\frame_0185.tiff\n",
      "C:\\Users\\andre\\Documents\\Work\\Projects\\AnemoneTracking\\data\\processed\\CFP_CYP 2 A \\frame_0186.tiff\n",
      "C:\\Users\\andre\\Documents\\Work\\Projects\\AnemoneTracking\\data\\processed\\CFP_CYP 2 A \\frame_0187.tiff\n",
      "C:\\Users\\andre\\Documents\\Work\\Projects\\AnemoneTracking\\data\\processed\\CFP_CYP 2 A \\frame_0188.tiff\n",
      "C:\\Users\\andre\\Documents\\Work\\Projects\\AnemoneTracking\\data\\processed\\CFP_CYP 2 A \\frame_0189.tiff\n",
      "C:\\Users\\andre\\Documents\\Work\\Projects\\AnemoneTracking\\data\\processed\\CFP_CYP 2 A \\frame_0190.tiff\n",
      "C:\\Users\\andre\\Documents\\Work\\Projects\\AnemoneTracking\\data\\processed\\CFP_CYP 2 A \\frame_0191.tiff\n",
      "C:\\Users\\andre\\Documents\\Work\\Projects\\AnemoneTracking\\data\\processed\\CFP_CYP 2 A \\frame_0192.tiff\n",
      "C:\\Users\\andre\\Documents\\Work\\Projects\\AnemoneTracking\\data\\processed\\CFP_CYP 2 A \\frame_0193.tiff\n",
      "C:\\Users\\andre\\Documents\\Work\\Projects\\AnemoneTracking\\data\\processed\\CFP_CYP 2 A \\frame_0194.tiff\n",
      "C:\\Users\\andre\\Documents\\Work\\Projects\\AnemoneTracking\\data\\processed\\CFP_CYP 2 A \\frame_0195.tiff\n",
      "C:\\Users\\andre\\Documents\\Work\\Projects\\AnemoneTracking\\data\\processed\\CFP_CYP 2 A \\frame_0196.tiff\n",
      "C:\\Users\\andre\\Documents\\Work\\Projects\\AnemoneTracking\\data\\processed\\CFP_CYP 2 A \\frame_0197.tiff\n"
     ]
    },
    {
     "name": "stderr",
     "output_type": "stream",
     "text": [
      "Extracting CFP_CYP 2 A :  21%|███████████▏                                          | 201/966 [00:00<00:03, 233.97it/s]"
     ]
    },
    {
     "name": "stdout",
     "output_type": "stream",
     "text": [
      "C:\\Users\\andre\\Documents\\Work\\Projects\\AnemoneTracking\\data\\processed\\CFP_CYP 2 A \\frame_0198.tiff\n",
      "C:\\Users\\andre\\Documents\\Work\\Projects\\AnemoneTracking\\data\\processed\\CFP_CYP 2 A \\frame_0199.tiff\n",
      "C:\\Users\\andre\\Documents\\Work\\Projects\\AnemoneTracking\\data\\processed\\CFP_CYP 2 A \\frame_0200.tiff\n",
      "C:\\Users\\andre\\Documents\\Work\\Projects\\AnemoneTracking\\data\\processed\\CFP_CYP 2 A \\frame_0201.tiff\n",
      "C:\\Users\\andre\\Documents\\Work\\Projects\\AnemoneTracking\\data\\processed\\CFP_CYP 2 A \\frame_0202.tiff\n",
      "C:\\Users\\andre\\Documents\\Work\\Projects\\AnemoneTracking\\data\\processed\\CFP_CYP 2 A \\frame_0203.tiff\n",
      "C:\\Users\\andre\\Documents\\Work\\Projects\\AnemoneTracking\\data\\processed\\CFP_CYP 2 A \\frame_0204.tiff\n",
      "C:\\Users\\andre\\Documents\\Work\\Projects\\AnemoneTracking\\data\\processed\\CFP_CYP 2 A \\frame_0205.tiff\n",
      "C:\\Users\\andre\\Documents\\Work\\Projects\\AnemoneTracking\\data\\processed\\CFP_CYP 2 A \\frame_0206.tiff\n",
      "C:\\Users\\andre\\Documents\\Work\\Projects\\AnemoneTracking\\data\\processed\\CFP_CYP 2 A \\frame_0207.tiff\n",
      "C:\\Users\\andre\\Documents\\Work\\Projects\\AnemoneTracking\\data\\processed\\CFP_CYP 2 A \\frame_0208.tiff\n",
      "C:\\Users\\andre\\Documents\\Work\\Projects\\AnemoneTracking\\data\\processed\\CFP_CYP 2 A \\frame_0209.tiff\n",
      "C:\\Users\\andre\\Documents\\Work\\Projects\\AnemoneTracking\\data\\processed\\CFP_CYP 2 A \\frame_0210.tiff\n",
      "C:\\Users\\andre\\Documents\\Work\\Projects\\AnemoneTracking\\data\\processed\\CFP_CYP 2 A \\frame_0211.tiff\n",
      "C:\\Users\\andre\\Documents\\Work\\Projects\\AnemoneTracking\\data\\processed\\CFP_CYP 2 A \\frame_0212.tiff\n",
      "C:\\Users\\andre\\Documents\\Work\\Projects\\AnemoneTracking\\data\\processed\\CFP_CYP 2 A \\frame_0213.tiff\n",
      "C:\\Users\\andre\\Documents\\Work\\Projects\\AnemoneTracking\\data\\processed\\CFP_CYP 2 A \\frame_0214.tiff\n",
      "C:\\Users\\andre\\Documents\\Work\\Projects\\AnemoneTracking\\data\\processed\\CFP_CYP 2 A \\frame_0215.tiff\n",
      "C:\\Users\\andre\\Documents\\Work\\Projects\\AnemoneTracking\\data\\processed\\CFP_CYP 2 A \\frame_0216.tiff\n",
      "C:\\Users\\andre\\Documents\\Work\\Projects\\AnemoneTracking\\data\\processed\\CFP_CYP 2 A \\frame_0217.tiff\n",
      "C:\\Users\\andre\\Documents\\Work\\Projects\\AnemoneTracking\\data\\processed\\CFP_CYP 2 A \\frame_0218.tiff\n",
      "C:\\Users\\andre\\Documents\\Work\\Projects\\AnemoneTracking\\data\\processed\\CFP_CYP 2 A \\frame_0219.tiff\n",
      "C:\\Users\\andre\\Documents\\Work\\Projects\\AnemoneTracking\\data\\processed\\CFP_CYP 2 A \\frame_0220.tiff\n"
     ]
    },
    {
     "name": "stderr",
     "output_type": "stream",
     "text": [
      "Extracting CFP_CYP 2 A :  23%|████████████▌                                         | 225/966 [00:01<00:03, 230.96it/s]"
     ]
    },
    {
     "name": "stdout",
     "output_type": "stream",
     "text": [
      "C:\\Users\\andre\\Documents\\Work\\Projects\\AnemoneTracking\\data\\processed\\CFP_CYP 2 A \\frame_0221.tiff\n",
      "C:\\Users\\andre\\Documents\\Work\\Projects\\AnemoneTracking\\data\\processed\\CFP_CYP 2 A \\frame_0222.tiff\n",
      "C:\\Users\\andre\\Documents\\Work\\Projects\\AnemoneTracking\\data\\processed\\CFP_CYP 2 A \\frame_0223.tiff\n",
      "C:\\Users\\andre\\Documents\\Work\\Projects\\AnemoneTracking\\data\\processed\\CFP_CYP 2 A \\frame_0224.tiff\n",
      "C:\\Users\\andre\\Documents\\Work\\Projects\\AnemoneTracking\\data\\processed\\CFP_CYP 2 A \\frame_0225.tiff\n",
      "C:\\Users\\andre\\Documents\\Work\\Projects\\AnemoneTracking\\data\\processed\\CFP_CYP 2 A \\frame_0226.tiff\n",
      "C:\\Users\\andre\\Documents\\Work\\Projects\\AnemoneTracking\\data\\processed\\CFP_CYP 2 A \\frame_0227.tiff\n",
      "C:\\Users\\andre\\Documents\\Work\\Projects\\AnemoneTracking\\data\\processed\\CFP_CYP 2 A \\frame_0228.tiff\n",
      "C:\\Users\\andre\\Documents\\Work\\Projects\\AnemoneTracking\\data\\processed\\CFP_CYP 2 A \\frame_0229.tiff\n",
      "C:\\Users\\andre\\Documents\\Work\\Projects\\AnemoneTracking\\data\\processed\\CFP_CYP 2 A \\frame_0230.tiff\n",
      "C:\\Users\\andre\\Documents\\Work\\Projects\\AnemoneTracking\\data\\processed\\CFP_CYP 2 A \\frame_0231.tiff\n",
      "C:\\Users\\andre\\Documents\\Work\\Projects\\AnemoneTracking\\data\\processed\\CFP_CYP 2 A \\frame_0232.tiff\n",
      "C:\\Users\\andre\\Documents\\Work\\Projects\\AnemoneTracking\\data\\processed\\CFP_CYP 2 A \\frame_0233.tiff\n",
      "C:\\Users\\andre\\Documents\\Work\\Projects\\AnemoneTracking\\data\\processed\\CFP_CYP 2 A \\frame_0234.tiff\n",
      "C:\\Users\\andre\\Documents\\Work\\Projects\\AnemoneTracking\\data\\processed\\CFP_CYP 2 A \\frame_0235.tiff\n",
      "C:\\Users\\andre\\Documents\\Work\\Projects\\AnemoneTracking\\data\\processed\\CFP_CYP 2 A \\frame_0236.tiff\n",
      "C:\\Users\\andre\\Documents\\Work\\Projects\\AnemoneTracking\\data\\processed\\CFP_CYP 2 A \\frame_0237.tiff\n",
      "C:\\Users\\andre\\Documents\\Work\\Projects\\AnemoneTracking\\data\\processed\\CFP_CYP 2 A \\frame_0238.tiff\n",
      "C:\\Users\\andre\\Documents\\Work\\Projects\\AnemoneTracking\\data\\processed\\CFP_CYP 2 A \\frame_0239.tiff\n",
      "C:\\Users\\andre\\Documents\\Work\\Projects\\AnemoneTracking\\data\\processed\\CFP_CYP 2 A \\frame_0240.tiff\n",
      "C:\\Users\\andre\\Documents\\Work\\Projects\\AnemoneTracking\\data\\processed\\CFP_CYP 2 A \\frame_0241.tiff\n",
      "C:\\Users\\andre\\Documents\\Work\\Projects\\AnemoneTracking\\data\\processed\\CFP_CYP 2 A \\frame_0242.tiff\n",
      "C:\\Users\\andre\\Documents\\Work\\Projects\\AnemoneTracking\\data\\processed\\CFP_CYP 2 A \\frame_0243.tiff\n"
     ]
    },
    {
     "name": "stderr",
     "output_type": "stream",
     "text": [
      "Extracting CFP_CYP 2 A :  26%|█████████████▉                                        | 250/966 [00:01<00:03, 232.65it/s]"
     ]
    },
    {
     "name": "stdout",
     "output_type": "stream",
     "text": [
      "C:\\Users\\andre\\Documents\\Work\\Projects\\AnemoneTracking\\data\\processed\\CFP_CYP 2 A \\frame_0244.tiff\n",
      "C:\\Users\\andre\\Documents\\Work\\Projects\\AnemoneTracking\\data\\processed\\CFP_CYP 2 A \\frame_0245.tiff\n",
      "C:\\Users\\andre\\Documents\\Work\\Projects\\AnemoneTracking\\data\\processed\\CFP_CYP 2 A \\frame_0246.tiff\n",
      "C:\\Users\\andre\\Documents\\Work\\Projects\\AnemoneTracking\\data\\processed\\CFP_CYP 2 A \\frame_0247.tiff\n",
      "C:\\Users\\andre\\Documents\\Work\\Projects\\AnemoneTracking\\data\\processed\\CFP_CYP 2 A \\frame_0248.tiff\n",
      "C:\\Users\\andre\\Documents\\Work\\Projects\\AnemoneTracking\\data\\processed\\CFP_CYP 2 A \\frame_0249.tiff\n",
      "C:\\Users\\andre\\Documents\\Work\\Projects\\AnemoneTracking\\data\\processed\\CFP_CYP 2 A \\frame_0250.tiff\n",
      "C:\\Users\\andre\\Documents\\Work\\Projects\\AnemoneTracking\\data\\processed\\CFP_CYP 2 A \\frame_0251.tiff\n",
      "C:\\Users\\andre\\Documents\\Work\\Projects\\AnemoneTracking\\data\\processed\\CFP_CYP 2 A \\frame_0252.tiff\n",
      "C:\\Users\\andre\\Documents\\Work\\Projects\\AnemoneTracking\\data\\processed\\CFP_CYP 2 A \\frame_0253.tiff\n",
      "C:\\Users\\andre\\Documents\\Work\\Projects\\AnemoneTracking\\data\\processed\\CFP_CYP 2 A \\frame_0254.tiff\n",
      "C:\\Users\\andre\\Documents\\Work\\Projects\\AnemoneTracking\\data\\processed\\CFP_CYP 2 A \\frame_0255.tiff\n",
      "C:\\Users\\andre\\Documents\\Work\\Projects\\AnemoneTracking\\data\\processed\\CFP_CYP 2 A \\frame_0256.tiff\n",
      "C:\\Users\\andre\\Documents\\Work\\Projects\\AnemoneTracking\\data\\processed\\CFP_CYP 2 A \\frame_0257.tiff\n",
      "C:\\Users\\andre\\Documents\\Work\\Projects\\AnemoneTracking\\data\\processed\\CFP_CYP 2 A \\frame_0258.tiff\n",
      "C:\\Users\\andre\\Documents\\Work\\Projects\\AnemoneTracking\\data\\processed\\CFP_CYP 2 A \\frame_0259.tiff\n",
      "C:\\Users\\andre\\Documents\\Work\\Projects\\AnemoneTracking\\data\\processed\\CFP_CYP 2 A \\frame_0260.tiff\n",
      "C:\\Users\\andre\\Documents\\Work\\Projects\\AnemoneTracking\\data\\processed\\CFP_CYP 2 A \\frame_0261.tiff\n",
      "C:\\Users\\andre\\Documents\\Work\\Projects\\AnemoneTracking\\data\\processed\\CFP_CYP 2 A \\frame_0262.tiff\n",
      "C:\\Users\\andre\\Documents\\Work\\Projects\\AnemoneTracking\\data\\processed\\CFP_CYP 2 A \\frame_0263.tiff\n",
      "C:\\Users\\andre\\Documents\\Work\\Projects\\AnemoneTracking\\data\\processed\\CFP_CYP 2 A \\frame_0264.tiff\n",
      "C:\\Users\\andre\\Documents\\Work\\Projects\\AnemoneTracking\\data\\processed\\CFP_CYP 2 A \\frame_0265.tiff\n",
      "C:\\Users\\andre\\Documents\\Work\\Projects\\AnemoneTracking\\data\\processed\\CFP_CYP 2 A \\frame_0266.tiff\n",
      "C:\\Users\\andre\\Documents\\Work\\Projects\\AnemoneTracking\\data\\processed\\CFP_CYP 2 A \\frame_0267.tiff\n",
      "C:\\Users\\andre\\Documents\\Work\\Projects\\AnemoneTracking\\data\\processed\\CFP_CYP 2 A \\frame_0268.tiff\n",
      "C:\\Users\\andre\\Documents\\Work\\Projects\\AnemoneTracking\\data\\processed\\CFP_CYP 2 A \\frame_0269.tiff\n",
      "C:\\Users\\andre\\Documents\\Work\\Projects\\AnemoneTracking\\data\\processed\\CFP_CYP 2 A \\frame_0270.tiff\n",
      "C:\\Users\\andre\\Documents\\Work\\Projects\\AnemoneTracking\\data\\processed\\CFP_CYP 2 A \\frame_0271.tiff\n"
     ]
    },
    {
     "name": "stderr",
     "output_type": "stream",
     "text": [
      "Extracting CFP_CYP 2 A :  28%|███████████████▎                                      | 275/966 [00:01<00:02, 235.53it/s]"
     ]
    },
    {
     "name": "stdout",
     "output_type": "stream",
     "text": [
      "C:\\Users\\andre\\Documents\\Work\\Projects\\AnemoneTracking\\data\\processed\\CFP_CYP 2 A \\frame_0272.tiff\n",
      "C:\\Users\\andre\\Documents\\Work\\Projects\\AnemoneTracking\\data\\processed\\CFP_CYP 2 A \\frame_0273.tiff\n",
      "C:\\Users\\andre\\Documents\\Work\\Projects\\AnemoneTracking\\data\\processed\\CFP_CYP 2 A \\frame_0274.tiff\n",
      "C:\\Users\\andre\\Documents\\Work\\Projects\\AnemoneTracking\\data\\processed\\CFP_CYP 2 A \\frame_0275.tiff\n",
      "C:\\Users\\andre\\Documents\\Work\\Projects\\AnemoneTracking\\data\\processed\\CFP_CYP 2 A \\frame_0276.tiff\n",
      "C:\\Users\\andre\\Documents\\Work\\Projects\\AnemoneTracking\\data\\processed\\CFP_CYP 2 A \\frame_0277.tiff\n",
      "C:\\Users\\andre\\Documents\\Work\\Projects\\AnemoneTracking\\data\\processed\\CFP_CYP 2 A \\frame_0278.tiff\n",
      "C:\\Users\\andre\\Documents\\Work\\Projects\\AnemoneTracking\\data\\processed\\CFP_CYP 2 A \\frame_0279.tiff\n",
      "C:\\Users\\andre\\Documents\\Work\\Projects\\AnemoneTracking\\data\\processed\\CFP_CYP 2 A \\frame_0280.tiff\n",
      "C:\\Users\\andre\\Documents\\Work\\Projects\\AnemoneTracking\\data\\processed\\CFP_CYP 2 A \\frame_0281.tiff\n",
      "C:\\Users\\andre\\Documents\\Work\\Projects\\AnemoneTracking\\data\\processed\\CFP_CYP 2 A \\frame_0282.tiff\n",
      "C:\\Users\\andre\\Documents\\Work\\Projects\\AnemoneTracking\\data\\processed\\CFP_CYP 2 A \\frame_0283.tiff\n",
      "C:\\Users\\andre\\Documents\\Work\\Projects\\AnemoneTracking\\data\\processed\\CFP_CYP 2 A \\frame_0284.tiff\n",
      "C:\\Users\\andre\\Documents\\Work\\Projects\\AnemoneTracking\\data\\processed\\CFP_CYP 2 A \\frame_0285.tiff\n",
      "C:\\Users\\andre\\Documents\\Work\\Projects\\AnemoneTracking\\data\\processed\\CFP_CYP 2 A \\frame_0286.tiff\n",
      "C:\\Users\\andre\\Documents\\Work\\Projects\\AnemoneTracking\\data\\processed\\CFP_CYP 2 A \\frame_0287.tiff\n",
      "C:\\Users\\andre\\Documents\\Work\\Projects\\AnemoneTracking\\data\\processed\\CFP_CYP 2 A \\frame_0288.tiff\n",
      "C:\\Users\\andre\\Documents\\Work\\Projects\\AnemoneTracking\\data\\processed\\CFP_CYP 2 A \\frame_0289.tiff\n"
     ]
    },
    {
     "name": "stderr",
     "output_type": "stream",
     "text": [
      "Extracting CFP_CYP 2 A :  31%|████████████████▋                                     | 299/966 [00:01<00:02, 224.77it/s]"
     ]
    },
    {
     "name": "stdout",
     "output_type": "stream",
     "text": [
      "C:\\Users\\andre\\Documents\\Work\\Projects\\AnemoneTracking\\data\\processed\\CFP_CYP 2 A \\frame_0290.tiff\n",
      "C:\\Users\\andre\\Documents\\Work\\Projects\\AnemoneTracking\\data\\processed\\CFP_CYP 2 A \\frame_0291.tiff\n",
      "C:\\Users\\andre\\Documents\\Work\\Projects\\AnemoneTracking\\data\\processed\\CFP_CYP 2 A \\frame_0292.tiff\n",
      "C:\\Users\\andre\\Documents\\Work\\Projects\\AnemoneTracking\\data\\processed\\CFP_CYP 2 A \\frame_0293.tiff\n",
      "C:\\Users\\andre\\Documents\\Work\\Projects\\AnemoneTracking\\data\\processed\\CFP_CYP 2 A \\frame_0294.tiff\n",
      "C:\\Users\\andre\\Documents\\Work\\Projects\\AnemoneTracking\\data\\processed\\CFP_CYP 2 A \\frame_0295.tiff\n",
      "C:\\Users\\andre\\Documents\\Work\\Projects\\AnemoneTracking\\data\\processed\\CFP_CYP 2 A \\frame_0296.tiff\n",
      "C:\\Users\\andre\\Documents\\Work\\Projects\\AnemoneTracking\\data\\processed\\CFP_CYP 2 A \\frame_0297.tiff\n",
      "C:\\Users\\andre\\Documents\\Work\\Projects\\AnemoneTracking\\data\\processed\\CFP_CYP 2 A \\frame_0298.tiff\n",
      "C:\\Users\\andre\\Documents\\Work\\Projects\\AnemoneTracking\\data\\processed\\CFP_CYP 2 A \\frame_0299.tiff\n",
      "C:\\Users\\andre\\Documents\\Work\\Projects\\AnemoneTracking\\data\\processed\\CFP_CYP 2 A \\frame_0300.tiff\n",
      "C:\\Users\\andre\\Documents\\Work\\Projects\\AnemoneTracking\\data\\processed\\CFP_CYP 2 A \\frame_0301.tiff\n",
      "C:\\Users\\andre\\Documents\\Work\\Projects\\AnemoneTracking\\data\\processed\\CFP_CYP 2 A \\frame_0302.tiff\n",
      "C:\\Users\\andre\\Documents\\Work\\Projects\\AnemoneTracking\\data\\processed\\CFP_CYP 2 A \\frame_0303.tiff\n",
      "C:\\Users\\andre\\Documents\\Work\\Projects\\AnemoneTracking\\data\\processed\\CFP_CYP 2 A \\frame_0304.tiff\n",
      "C:\\Users\\andre\\Documents\\Work\\Projects\\AnemoneTracking\\data\\processed\\CFP_CYP 2 A \\frame_0305.tiff\n",
      "C:\\Users\\andre\\Documents\\Work\\Projects\\AnemoneTracking\\data\\processed\\CFP_CYP 2 A \\frame_0306.tiff\n",
      "C:\\Users\\andre\\Documents\\Work\\Projects\\AnemoneTracking\\data\\processed\\CFP_CYP 2 A \\frame_0307.tiff\n",
      "C:\\Users\\andre\\Documents\\Work\\Projects\\AnemoneTracking\\data\\processed\\CFP_CYP 2 A \\frame_0308.tiff\n",
      "C:\\Users\\andre\\Documents\\Work\\Projects\\AnemoneTracking\\data\\processed\\CFP_CYP 2 A \\frame_0309.tiff\n",
      "C:\\Users\\andre\\Documents\\Work\\Projects\\AnemoneTracking\\data\\processed\\CFP_CYP 2 A \\frame_0310.tiff\n",
      "C:\\Users\\andre\\Documents\\Work\\Projects\\AnemoneTracking\\data\\processed\\CFP_CYP 2 A \\frame_0311.tiff\n",
      "C:\\Users\\andre\\Documents\\Work\\Projects\\AnemoneTracking\\data\\processed\\CFP_CYP 2 A \\frame_0312.tiff\n",
      "C:\\Users\\andre\\Documents\\Work\\Projects\\AnemoneTracking\\data\\processed\\CFP_CYP 2 A \\frame_0313.tiff\n",
      "C:\\Users\\andre\\Documents\\Work\\Projects\\AnemoneTracking\\data\\processed\\CFP_CYP 2 A \\frame_0314.tiff\n",
      "C:\\Users\\andre\\Documents\\Work\\Projects\\AnemoneTracking\\data\\processed\\CFP_CYP 2 A \\frame_0315.tiff\n"
     ]
    },
    {
     "name": "stderr",
     "output_type": "stream",
     "text": [
      "Extracting CFP_CYP 2 A :  33%|██████████████████                                    | 322/966 [00:01<00:02, 226.08it/s]"
     ]
    },
    {
     "name": "stdout",
     "output_type": "stream",
     "text": [
      "C:\\Users\\andre\\Documents\\Work\\Projects\\AnemoneTracking\\data\\processed\\CFP_CYP 2 A \\frame_0316.tiff\n",
      "C:\\Users\\andre\\Documents\\Work\\Projects\\AnemoneTracking\\data\\processed\\CFP_CYP 2 A \\frame_0317.tiff\n",
      "C:\\Users\\andre\\Documents\\Work\\Projects\\AnemoneTracking\\data\\processed\\CFP_CYP 2 A \\frame_0318.tiff\n",
      "C:\\Users\\andre\\Documents\\Work\\Projects\\AnemoneTracking\\data\\processed\\CFP_CYP 2 A \\frame_0319.tiff\n",
      "C:\\Users\\andre\\Documents\\Work\\Projects\\AnemoneTracking\\data\\processed\\CFP_CYP 2 A \\frame_0320.tiff\n",
      "C:\\Users\\andre\\Documents\\Work\\Projects\\AnemoneTracking\\data\\processed\\CFP_CYP 2 A \\frame_0321.tiff\n",
      "C:\\Users\\andre\\Documents\\Work\\Projects\\AnemoneTracking\\data\\processed\\CFP_CYP 2 A \\frame_0322.tiff\n",
      "C:\\Users\\andre\\Documents\\Work\\Projects\\AnemoneTracking\\data\\processed\\CFP_CYP 2 A \\frame_0323.tiff\n",
      "C:\\Users\\andre\\Documents\\Work\\Projects\\AnemoneTracking\\data\\processed\\CFP_CYP 2 A \\frame_0324.tiff\n",
      "C:\\Users\\andre\\Documents\\Work\\Projects\\AnemoneTracking\\data\\processed\\CFP_CYP 2 A \\frame_0325.tiff\n",
      "C:\\Users\\andre\\Documents\\Work\\Projects\\AnemoneTracking\\data\\processed\\CFP_CYP 2 A \\frame_0326.tiff\n",
      "C:\\Users\\andre\\Documents\\Work\\Projects\\AnemoneTracking\\data\\processed\\CFP_CYP 2 A \\frame_0327.tiff\n",
      "C:\\Users\\andre\\Documents\\Work\\Projects\\AnemoneTracking\\data\\processed\\CFP_CYP 2 A \\frame_0328.tiff\n",
      "C:\\Users\\andre\\Documents\\Work\\Projects\\AnemoneTracking\\data\\processed\\CFP_CYP 2 A \\frame_0329.tiff\n",
      "C:\\Users\\andre\\Documents\\Work\\Projects\\AnemoneTracking\\data\\processed\\CFP_CYP 2 A \\frame_0330.tiff\n",
      "C:\\Users\\andre\\Documents\\Work\\Projects\\AnemoneTracking\\data\\processed\\CFP_CYP 2 A \\frame_0331.tiff\n",
      "C:\\Users\\andre\\Documents\\Work\\Projects\\AnemoneTracking\\data\\processed\\CFP_CYP 2 A \\frame_0332.tiff\n",
      "C:\\Users\\andre\\Documents\\Work\\Projects\\AnemoneTracking\\data\\processed\\CFP_CYP 2 A \\frame_0333.tiff\n",
      "C:\\Users\\andre\\Documents\\Work\\Projects\\AnemoneTracking\\data\\processed\\CFP_CYP 2 A \\frame_0334.tiff\n",
      "C:\\Users\\andre\\Documents\\Work\\Projects\\AnemoneTracking\\data\\processed\\CFP_CYP 2 A \\frame_0335.tiff\n",
      "C:\\Users\\andre\\Documents\\Work\\Projects\\AnemoneTracking\\data\\processed\\CFP_CYP 2 A \\frame_0336.tiff\n"
     ]
    },
    {
     "name": "stderr",
     "output_type": "stream",
     "text": [
      "Extracting CFP_CYP 2 A :  36%|███████████████████▍                                  | 348/966 [00:01<00:02, 234.14it/s]"
     ]
    },
    {
     "name": "stdout",
     "output_type": "stream",
     "text": [
      "C:\\Users\\andre\\Documents\\Work\\Projects\\AnemoneTracking\\data\\processed\\CFP_CYP 2 A \\frame_0337.tiff\n",
      "C:\\Users\\andre\\Documents\\Work\\Projects\\AnemoneTracking\\data\\processed\\CFP_CYP 2 A \\frame_0338.tiff\n",
      "C:\\Users\\andre\\Documents\\Work\\Projects\\AnemoneTracking\\data\\processed\\CFP_CYP 2 A \\frame_0339.tiff\n",
      "C:\\Users\\andre\\Documents\\Work\\Projects\\AnemoneTracking\\data\\processed\\CFP_CYP 2 A \\frame_0340.tiff\n",
      "C:\\Users\\andre\\Documents\\Work\\Projects\\AnemoneTracking\\data\\processed\\CFP_CYP 2 A \\frame_0341.tiff\n",
      "C:\\Users\\andre\\Documents\\Work\\Projects\\AnemoneTracking\\data\\processed\\CFP_CYP 2 A \\frame_0342.tiff\n",
      "C:\\Users\\andre\\Documents\\Work\\Projects\\AnemoneTracking\\data\\processed\\CFP_CYP 2 A \\frame_0343.tiff\n",
      "C:\\Users\\andre\\Documents\\Work\\Projects\\AnemoneTracking\\data\\processed\\CFP_CYP 2 A \\frame_0344.tiff\n",
      "C:\\Users\\andre\\Documents\\Work\\Projects\\AnemoneTracking\\data\\processed\\CFP_CYP 2 A \\frame_0345.tiff\n",
      "C:\\Users\\andre\\Documents\\Work\\Projects\\AnemoneTracking\\data\\processed\\CFP_CYP 2 A \\frame_0346.tiff\n",
      "C:\\Users\\andre\\Documents\\Work\\Projects\\AnemoneTracking\\data\\processed\\CFP_CYP 2 A \\frame_0347.tiff\n",
      "C:\\Users\\andre\\Documents\\Work\\Projects\\AnemoneTracking\\data\\processed\\CFP_CYP 2 A \\frame_0348.tiff\n",
      "C:\\Users\\andre\\Documents\\Work\\Projects\\AnemoneTracking\\data\\processed\\CFP_CYP 2 A \\frame_0349.tiff\n",
      "C:\\Users\\andre\\Documents\\Work\\Projects\\AnemoneTracking\\data\\processed\\CFP_CYP 2 A \\frame_0350.tiff\n",
      "C:\\Users\\andre\\Documents\\Work\\Projects\\AnemoneTracking\\data\\processed\\CFP_CYP 2 A \\frame_0351.tiff\n",
      "C:\\Users\\andre\\Documents\\Work\\Projects\\AnemoneTracking\\data\\processed\\CFP_CYP 2 A \\frame_0352.tiff\n",
      "C:\\Users\\andre\\Documents\\Work\\Projects\\AnemoneTracking\\data\\processed\\CFP_CYP 2 A \\frame_0353.tiff\n",
      "C:\\Users\\andre\\Documents\\Work\\Projects\\AnemoneTracking\\data\\processed\\CFP_CYP 2 A \\frame_0354.tiff\n",
      "C:\\Users\\andre\\Documents\\Work\\Projects\\AnemoneTracking\\data\\processed\\CFP_CYP 2 A \\frame_0355.tiff\n",
      "C:\\Users\\andre\\Documents\\Work\\Projects\\AnemoneTracking\\data\\processed\\CFP_CYP 2 A \\frame_0356.tiff\n",
      "C:\\Users\\andre\\Documents\\Work\\Projects\\AnemoneTracking\\data\\processed\\CFP_CYP 2 A \\frame_0357.tiff\n",
      "C:\\Users\\andre\\Documents\\Work\\Projects\\AnemoneTracking\\data\\processed\\CFP_CYP 2 A \\frame_0358.tiff\n",
      "C:\\Users\\andre\\Documents\\Work\\Projects\\AnemoneTracking\\data\\processed\\CFP_CYP 2 A \\frame_0359.tiff\n",
      "C:\\Users\\andre\\Documents\\Work\\Projects\\AnemoneTracking\\data\\processed\\CFP_CYP 2 A \\frame_0360.tiff\n",
      "C:\\Users\\andre\\Documents\\Work\\Projects\\AnemoneTracking\\data\\processed\\CFP_CYP 2 A \\frame_0361.tiff\n",
      "C:\\Users\\andre\\Documents\\Work\\Projects\\AnemoneTracking\\data\\processed\\CFP_CYP 2 A \\frame_0362.tiff\n"
     ]
    },
    {
     "name": "stderr",
     "output_type": "stream",
     "text": [
      "Extracting CFP_CYP 2 A :  39%|████████████████████▊                                 | 373/966 [00:01<00:02, 236.92it/s]"
     ]
    },
    {
     "name": "stdout",
     "output_type": "stream",
     "text": [
      "C:\\Users\\andre\\Documents\\Work\\Projects\\AnemoneTracking\\data\\processed\\CFP_CYP 2 A \\frame_0363.tiff\n",
      "C:\\Users\\andre\\Documents\\Work\\Projects\\AnemoneTracking\\data\\processed\\CFP_CYP 2 A \\frame_0364.tiff\n",
      "C:\\Users\\andre\\Documents\\Work\\Projects\\AnemoneTracking\\data\\processed\\CFP_CYP 2 A \\frame_0365.tiff\n",
      "C:\\Users\\andre\\Documents\\Work\\Projects\\AnemoneTracking\\data\\processed\\CFP_CYP 2 A \\frame_0366.tiff\n",
      "C:\\Users\\andre\\Documents\\Work\\Projects\\AnemoneTracking\\data\\processed\\CFP_CYP 2 A \\frame_0367.tiff\n",
      "C:\\Users\\andre\\Documents\\Work\\Projects\\AnemoneTracking\\data\\processed\\CFP_CYP 2 A \\frame_0368.tiff\n",
      "C:\\Users\\andre\\Documents\\Work\\Projects\\AnemoneTracking\\data\\processed\\CFP_CYP 2 A \\frame_0369.tiff\n",
      "C:\\Users\\andre\\Documents\\Work\\Projects\\AnemoneTracking\\data\\processed\\CFP_CYP 2 A \\frame_0370.tiff\n",
      "C:\\Users\\andre\\Documents\\Work\\Projects\\AnemoneTracking\\data\\processed\\CFP_CYP 2 A \\frame_0371.tiff\n",
      "C:\\Users\\andre\\Documents\\Work\\Projects\\AnemoneTracking\\data\\processed\\CFP_CYP 2 A \\frame_0372.tiff\n",
      "C:\\Users\\andre\\Documents\\Work\\Projects\\AnemoneTracking\\data\\processed\\CFP_CYP 2 A \\frame_0373.tiff\n",
      "C:\\Users\\andre\\Documents\\Work\\Projects\\AnemoneTracking\\data\\processed\\CFP_CYP 2 A \\frame_0374.tiff\n",
      "C:\\Users\\andre\\Documents\\Work\\Projects\\AnemoneTracking\\data\\processed\\CFP_CYP 2 A \\frame_0375.tiff\n",
      "C:\\Users\\andre\\Documents\\Work\\Projects\\AnemoneTracking\\data\\processed\\CFP_CYP 2 A \\frame_0376.tiff\n",
      "C:\\Users\\andre\\Documents\\Work\\Projects\\AnemoneTracking\\data\\processed\\CFP_CYP 2 A \\frame_0377.tiff\n",
      "C:\\Users\\andre\\Documents\\Work\\Projects\\AnemoneTracking\\data\\processed\\CFP_CYP 2 A \\frame_0378.tiff\n",
      "C:\\Users\\andre\\Documents\\Work\\Projects\\AnemoneTracking\\data\\processed\\CFP_CYP 2 A \\frame_0379.tiff\n",
      "C:\\Users\\andre\\Documents\\Work\\Projects\\AnemoneTracking\\data\\processed\\CFP_CYP 2 A \\frame_0380.tiff\n",
      "C:\\Users\\andre\\Documents\\Work\\Projects\\AnemoneTracking\\data\\processed\\CFP_CYP 2 A \\frame_0381.tiff\n",
      "C:\\Users\\andre\\Documents\\Work\\Projects\\AnemoneTracking\\data\\processed\\CFP_CYP 2 A \\frame_0382.tiff\n",
      "C:\\Users\\andre\\Documents\\Work\\Projects\\AnemoneTracking\\data\\processed\\CFP_CYP 2 A \\frame_0383.tiff\n",
      "C:\\Users\\andre\\Documents\\Work\\Projects\\AnemoneTracking\\data\\processed\\CFP_CYP 2 A \\frame_0384.tiff\n",
      "C:\\Users\\andre\\Documents\\Work\\Projects\\AnemoneTracking\\data\\processed\\CFP_CYP 2 A \\frame_0385.tiff\n"
     ]
    },
    {
     "name": "stderr",
     "output_type": "stream",
     "text": [
      "Extracting CFP_CYP 2 A :  41%|██████████████████████▏                               | 397/966 [00:01<00:02, 235.14it/s]"
     ]
    },
    {
     "name": "stdout",
     "output_type": "stream",
     "text": [
      "C:\\Users\\andre\\Documents\\Work\\Projects\\AnemoneTracking\\data\\processed\\CFP_CYP 2 A \\frame_0386.tiff\n",
      "C:\\Users\\andre\\Documents\\Work\\Projects\\AnemoneTracking\\data\\processed\\CFP_CYP 2 A \\frame_0387.tiff\n",
      "C:\\Users\\andre\\Documents\\Work\\Projects\\AnemoneTracking\\data\\processed\\CFP_CYP 2 A \\frame_0388.tiff\n",
      "C:\\Users\\andre\\Documents\\Work\\Projects\\AnemoneTracking\\data\\processed\\CFP_CYP 2 A \\frame_0389.tiff\n",
      "C:\\Users\\andre\\Documents\\Work\\Projects\\AnemoneTracking\\data\\processed\\CFP_CYP 2 A \\frame_0390.tiff\n",
      "C:\\Users\\andre\\Documents\\Work\\Projects\\AnemoneTracking\\data\\processed\\CFP_CYP 2 A \\frame_0391.tiff\n",
      "C:\\Users\\andre\\Documents\\Work\\Projects\\AnemoneTracking\\data\\processed\\CFP_CYP 2 A \\frame_0392.tiff\n",
      "C:\\Users\\andre\\Documents\\Work\\Projects\\AnemoneTracking\\data\\processed\\CFP_CYP 2 A \\frame_0393.tiff\n",
      "C:\\Users\\andre\\Documents\\Work\\Projects\\AnemoneTracking\\data\\processed\\CFP_CYP 2 A \\frame_0394.tiff\n",
      "C:\\Users\\andre\\Documents\\Work\\Projects\\AnemoneTracking\\data\\processed\\CFP_CYP 2 A \\frame_0395.tiff\n",
      "C:\\Users\\andre\\Documents\\Work\\Projects\\AnemoneTracking\\data\\processed\\CFP_CYP 2 A \\frame_0396.tiff\n",
      "C:\\Users\\andre\\Documents\\Work\\Projects\\AnemoneTracking\\data\\processed\\CFP_CYP 2 A \\frame_0397.tiff\n",
      "C:\\Users\\andre\\Documents\\Work\\Projects\\AnemoneTracking\\data\\processed\\CFP_CYP 2 A \\frame_0398.tiff\n",
      "C:\\Users\\andre\\Documents\\Work\\Projects\\AnemoneTracking\\data\\processed\\CFP_CYP 2 A \\frame_0399.tiff\n",
      "C:\\Users\\andre\\Documents\\Work\\Projects\\AnemoneTracking\\data\\processed\\CFP_CYP 2 A \\frame_0400.tiff\n",
      "C:\\Users\\andre\\Documents\\Work\\Projects\\AnemoneTracking\\data\\processed\\CFP_CYP 2 A \\frame_0401.tiff\n",
      "C:\\Users\\andre\\Documents\\Work\\Projects\\AnemoneTracking\\data\\processed\\CFP_CYP 2 A \\frame_0402.tiff\n",
      "C:\\Users\\andre\\Documents\\Work\\Projects\\AnemoneTracking\\data\\processed\\CFP_CYP 2 A \\frame_0403.tiff\n",
      "C:\\Users\\andre\\Documents\\Work\\Projects\\AnemoneTracking\\data\\processed\\CFP_CYP 2 A \\frame_0404.tiff\n",
      "C:\\Users\\andre\\Documents\\Work\\Projects\\AnemoneTracking\\data\\processed\\CFP_CYP 2 A \\frame_0405.tiff\n",
      "C:\\Users\\andre\\Documents\\Work\\Projects\\AnemoneTracking\\data\\processed\\CFP_CYP 2 A \\frame_0406.tiff\n",
      "C:\\Users\\andre\\Documents\\Work\\Projects\\AnemoneTracking\\data\\processed\\CFP_CYP 2 A \\frame_0407.tiff\n",
      "C:\\Users\\andre\\Documents\\Work\\Projects\\AnemoneTracking\\data\\processed\\CFP_CYP 2 A \\frame_0408.tiff\n"
     ]
    },
    {
     "name": "stderr",
     "output_type": "stream",
     "text": [
      "Extracting CFP_CYP 2 A :  44%|███████████████████████▌                              | 421/966 [00:01<00:02, 232.02it/s]"
     ]
    },
    {
     "name": "stdout",
     "output_type": "stream",
     "text": [
      "C:\\Users\\andre\\Documents\\Work\\Projects\\AnemoneTracking\\data\\processed\\CFP_CYP 2 A \\frame_0409.tiff\n",
      "C:\\Users\\andre\\Documents\\Work\\Projects\\AnemoneTracking\\data\\processed\\CFP_CYP 2 A \\frame_0410.tiff\n",
      "C:\\Users\\andre\\Documents\\Work\\Projects\\AnemoneTracking\\data\\processed\\CFP_CYP 2 A \\frame_0411.tiff\n",
      "C:\\Users\\andre\\Documents\\Work\\Projects\\AnemoneTracking\\data\\processed\\CFP_CYP 2 A \\frame_0412.tiff\n",
      "C:\\Users\\andre\\Documents\\Work\\Projects\\AnemoneTracking\\data\\processed\\CFP_CYP 2 A \\frame_0413.tiff\n",
      "C:\\Users\\andre\\Documents\\Work\\Projects\\AnemoneTracking\\data\\processed\\CFP_CYP 2 A \\frame_0414.tiff\n",
      "C:\\Users\\andre\\Documents\\Work\\Projects\\AnemoneTracking\\data\\processed\\CFP_CYP 2 A \\frame_0415.tiff\n",
      "C:\\Users\\andre\\Documents\\Work\\Projects\\AnemoneTracking\\data\\processed\\CFP_CYP 2 A \\frame_0416.tiff\n",
      "C:\\Users\\andre\\Documents\\Work\\Projects\\AnemoneTracking\\data\\processed\\CFP_CYP 2 A \\frame_0417.tiff\n",
      "C:\\Users\\andre\\Documents\\Work\\Projects\\AnemoneTracking\\data\\processed\\CFP_CYP 2 A \\frame_0418.tiff\n",
      "C:\\Users\\andre\\Documents\\Work\\Projects\\AnemoneTracking\\data\\processed\\CFP_CYP 2 A \\frame_0419.tiff\n",
      "C:\\Users\\andre\\Documents\\Work\\Projects\\AnemoneTracking\\data\\processed\\CFP_CYP 2 A \\frame_0420.tiff\n",
      "C:\\Users\\andre\\Documents\\Work\\Projects\\AnemoneTracking\\data\\processed\\CFP_CYP 2 A \\frame_0421.tiff\n",
      "C:\\Users\\andre\\Documents\\Work\\Projects\\AnemoneTracking\\data\\processed\\CFP_CYP 2 A \\frame_0422.tiff\n",
      "C:\\Users\\andre\\Documents\\Work\\Projects\\AnemoneTracking\\data\\processed\\CFP_CYP 2 A \\frame_0423.tiff\n",
      "C:\\Users\\andre\\Documents\\Work\\Projects\\AnemoneTracking\\data\\processed\\CFP_CYP 2 A \\frame_0424.tiff\n",
      "C:\\Users\\andre\\Documents\\Work\\Projects\\AnemoneTracking\\data\\processed\\CFP_CYP 2 A \\frame_0425.tiff\n",
      "C:\\Users\\andre\\Documents\\Work\\Projects\\AnemoneTracking\\data\\processed\\CFP_CYP 2 A \\frame_0426.tiff\n",
      "C:\\Users\\andre\\Documents\\Work\\Projects\\AnemoneTracking\\data\\processed\\CFP_CYP 2 A \\frame_0427.tiff\n",
      "C:\\Users\\andre\\Documents\\Work\\Projects\\AnemoneTracking\\data\\processed\\CFP_CYP 2 A \\frame_0428.tiff\n",
      "C:\\Users\\andre\\Documents\\Work\\Projects\\AnemoneTracking\\data\\processed\\CFP_CYP 2 A \\frame_0429.tiff\n",
      "C:\\Users\\andre\\Documents\\Work\\Projects\\AnemoneTracking\\data\\processed\\CFP_CYP 2 A \\frame_0430.tiff\n",
      "C:\\Users\\andre\\Documents\\Work\\Projects\\AnemoneTracking\\data\\processed\\CFP_CYP 2 A \\frame_0431.tiff\n"
     ]
    },
    {
     "name": "stderr",
     "output_type": "stream",
     "text": [
      "Extracting CFP_CYP 2 A :  46%|████████████████████████▉                             | 445/966 [00:01<00:02, 231.63it/s]"
     ]
    },
    {
     "name": "stdout",
     "output_type": "stream",
     "text": [
      "C:\\Users\\andre\\Documents\\Work\\Projects\\AnemoneTracking\\data\\processed\\CFP_CYP 2 A \\frame_0432.tiff\n",
      "C:\\Users\\andre\\Documents\\Work\\Projects\\AnemoneTracking\\data\\processed\\CFP_CYP 2 A \\frame_0433.tiff\n",
      "C:\\Users\\andre\\Documents\\Work\\Projects\\AnemoneTracking\\data\\processed\\CFP_CYP 2 A \\frame_0434.tiff\n",
      "C:\\Users\\andre\\Documents\\Work\\Projects\\AnemoneTracking\\data\\processed\\CFP_CYP 2 A \\frame_0435.tiff\n",
      "C:\\Users\\andre\\Documents\\Work\\Projects\\AnemoneTracking\\data\\processed\\CFP_CYP 2 A \\frame_0436.tiff\n",
      "C:\\Users\\andre\\Documents\\Work\\Projects\\AnemoneTracking\\data\\processed\\CFP_CYP 2 A \\frame_0437.tiff\n",
      "C:\\Users\\andre\\Documents\\Work\\Projects\\AnemoneTracking\\data\\processed\\CFP_CYP 2 A \\frame_0438.tiff\n",
      "C:\\Users\\andre\\Documents\\Work\\Projects\\AnemoneTracking\\data\\processed\\CFP_CYP 2 A \\frame_0439.tiff\n",
      "C:\\Users\\andre\\Documents\\Work\\Projects\\AnemoneTracking\\data\\processed\\CFP_CYP 2 A \\frame_0440.tiff\n",
      "C:\\Users\\andre\\Documents\\Work\\Projects\\AnemoneTracking\\data\\processed\\CFP_CYP 2 A \\frame_0441.tiff\n",
      "C:\\Users\\andre\\Documents\\Work\\Projects\\AnemoneTracking\\data\\processed\\CFP_CYP 2 A \\frame_0442.tiff\n",
      "C:\\Users\\andre\\Documents\\Work\\Projects\\AnemoneTracking\\data\\processed\\CFP_CYP 2 A \\frame_0443.tiff\n",
      "C:\\Users\\andre\\Documents\\Work\\Projects\\AnemoneTracking\\data\\processed\\CFP_CYP 2 A \\frame_0444.tiff\n",
      "C:\\Users\\andre\\Documents\\Work\\Projects\\AnemoneTracking\\data\\processed\\CFP_CYP 2 A \\frame_0445.tiff\n",
      "C:\\Users\\andre\\Documents\\Work\\Projects\\AnemoneTracking\\data\\processed\\CFP_CYP 2 A \\frame_0446.tiff\n",
      "C:\\Users\\andre\\Documents\\Work\\Projects\\AnemoneTracking\\data\\processed\\CFP_CYP 2 A \\frame_0447.tiff\n",
      "C:\\Users\\andre\\Documents\\Work\\Projects\\AnemoneTracking\\data\\processed\\CFP_CYP 2 A \\frame_0448.tiff\n",
      "C:\\Users\\andre\\Documents\\Work\\Projects\\AnemoneTracking\\data\\processed\\CFP_CYP 2 A \\frame_0449.tiff\n",
      "C:\\Users\\andre\\Documents\\Work\\Projects\\AnemoneTracking\\data\\processed\\CFP_CYP 2 A \\frame_0450.tiff\n",
      "C:\\Users\\andre\\Documents\\Work\\Projects\\AnemoneTracking\\data\\processed\\CFP_CYP 2 A \\frame_0451.tiff\n",
      "C:\\Users\\andre\\Documents\\Work\\Projects\\AnemoneTracking\\data\\processed\\CFP_CYP 2 A \\frame_0452.tiff\n",
      "C:\\Users\\andre\\Documents\\Work\\Projects\\AnemoneTracking\\data\\processed\\CFP_CYP 2 A \\frame_0453.tiff\n",
      "C:\\Users\\andre\\Documents\\Work\\Projects\\AnemoneTracking\\data\\processed\\CFP_CYP 2 A \\frame_0454.tiff\n",
      "C:\\Users\\andre\\Documents\\Work\\Projects\\AnemoneTracking\\data\\processed\\CFP_CYP 2 A \\frame_0455.tiff\n",
      "C:\\Users\\andre\\Documents\\Work\\Projects\\AnemoneTracking\\data\\processed\\CFP_CYP 2 A \\frame_0456.tiff\n",
      "C:\\Users\\andre\\Documents\\Work\\Projects\\AnemoneTracking\\data\\processed\\CFP_CYP 2 A \\frame_0457.tiff\n",
      "C:\\Users\\andre\\Documents\\Work\\Projects\\AnemoneTracking\\data\\processed\\CFP_CYP 2 A \\frame_0458.tiff\n",
      "C:\\Users\\andre\\Documents\\Work\\Projects\\AnemoneTracking\\data\\processed\\CFP_CYP 2 A \\frame_0459.tiff\n"
     ]
    },
    {
     "name": "stderr",
     "output_type": "stream",
     "text": [
      "Extracting CFP_CYP 2 A :  49%|██████████████████████████▎                           | 470/966 [00:02<00:02, 235.85it/s]"
     ]
    },
    {
     "name": "stdout",
     "output_type": "stream",
     "text": [
      "C:\\Users\\andre\\Documents\\Work\\Projects\\AnemoneTracking\\data\\processed\\CFP_CYP 2 A \\frame_0460.tiff\n",
      "C:\\Users\\andre\\Documents\\Work\\Projects\\AnemoneTracking\\data\\processed\\CFP_CYP 2 A \\frame_0461.tiff\n",
      "C:\\Users\\andre\\Documents\\Work\\Projects\\AnemoneTracking\\data\\processed\\CFP_CYP 2 A \\frame_0462.tiff\n",
      "C:\\Users\\andre\\Documents\\Work\\Projects\\AnemoneTracking\\data\\processed\\CFP_CYP 2 A \\frame_0463.tiff\n",
      "C:\\Users\\andre\\Documents\\Work\\Projects\\AnemoneTracking\\data\\processed\\CFP_CYP 2 A \\frame_0464.tiff\n",
      "C:\\Users\\andre\\Documents\\Work\\Projects\\AnemoneTracking\\data\\processed\\CFP_CYP 2 A \\frame_0465.tiff\n",
      "C:\\Users\\andre\\Documents\\Work\\Projects\\AnemoneTracking\\data\\processed\\CFP_CYP 2 A \\frame_0466.tiff\n",
      "C:\\Users\\andre\\Documents\\Work\\Projects\\AnemoneTracking\\data\\processed\\CFP_CYP 2 A \\frame_0467.tiff\n",
      "C:\\Users\\andre\\Documents\\Work\\Projects\\AnemoneTracking\\data\\processed\\CFP_CYP 2 A \\frame_0468.tiff\n",
      "C:\\Users\\andre\\Documents\\Work\\Projects\\AnemoneTracking\\data\\processed\\CFP_CYP 2 A \\frame_0469.tiff\n",
      "C:\\Users\\andre\\Documents\\Work\\Projects\\AnemoneTracking\\data\\processed\\CFP_CYP 2 A \\frame_0470.tiff\n",
      "C:\\Users\\andre\\Documents\\Work\\Projects\\AnemoneTracking\\data\\processed\\CFP_CYP 2 A \\frame_0471.tiff\n",
      "C:\\Users\\andre\\Documents\\Work\\Projects\\AnemoneTracking\\data\\processed\\CFP_CYP 2 A \\frame_0472.tiff\n",
      "C:\\Users\\andre\\Documents\\Work\\Projects\\AnemoneTracking\\data\\processed\\CFP_CYP 2 A \\frame_0473.tiff\n",
      "C:\\Users\\andre\\Documents\\Work\\Projects\\AnemoneTracking\\data\\processed\\CFP_CYP 2 A \\frame_0474.tiff\n",
      "C:\\Users\\andre\\Documents\\Work\\Projects\\AnemoneTracking\\data\\processed\\CFP_CYP 2 A \\frame_0475.tiff\n",
      "C:\\Users\\andre\\Documents\\Work\\Projects\\AnemoneTracking\\data\\processed\\CFP_CYP 2 A \\frame_0476.tiff\n",
      "C:\\Users\\andre\\Documents\\Work\\Projects\\AnemoneTracking\\data\\processed\\CFP_CYP 2 A \\frame_0477.tiff\n",
      "C:\\Users\\andre\\Documents\\Work\\Projects\\AnemoneTracking\\data\\processed\\CFP_CYP 2 A \\frame_0478.tiff\n",
      "C:\\Users\\andre\\Documents\\Work\\Projects\\AnemoneTracking\\data\\processed\\CFP_CYP 2 A \\frame_0479.tiff\n"
     ]
    },
    {
     "name": "stderr",
     "output_type": "stream",
     "text": [
      "Extracting CFP_CYP 2 A :  51%|███████████████████████████▌                          | 494/966 [00:02<00:01, 236.85it/s]"
     ]
    },
    {
     "name": "stdout",
     "output_type": "stream",
     "text": [
      "C:\\Users\\andre\\Documents\\Work\\Projects\\AnemoneTracking\\data\\processed\\CFP_CYP 2 A \\frame_0480.tiff\n",
      "C:\\Users\\andre\\Documents\\Work\\Projects\\AnemoneTracking\\data\\processed\\CFP_CYP 2 A \\frame_0481.tiff\n",
      "C:\\Users\\andre\\Documents\\Work\\Projects\\AnemoneTracking\\data\\processed\\CFP_CYP 2 A \\frame_0482.tiff\n",
      "C:\\Users\\andre\\Documents\\Work\\Projects\\AnemoneTracking\\data\\processed\\CFP_CYP 2 A \\frame_0483.tiff\n",
      "C:\\Users\\andre\\Documents\\Work\\Projects\\AnemoneTracking\\data\\processed\\CFP_CYP 2 A \\frame_0484.tiff\n",
      "C:\\Users\\andre\\Documents\\Work\\Projects\\AnemoneTracking\\data\\processed\\CFP_CYP 2 A \\frame_0485.tiff\n",
      "C:\\Users\\andre\\Documents\\Work\\Projects\\AnemoneTracking\\data\\processed\\CFP_CYP 2 A \\frame_0486.tiff\n",
      "C:\\Users\\andre\\Documents\\Work\\Projects\\AnemoneTracking\\data\\processed\\CFP_CYP 2 A \\frame_0487.tiff\n",
      "C:\\Users\\andre\\Documents\\Work\\Projects\\AnemoneTracking\\data\\processed\\CFP_CYP 2 A \\frame_0488.tiff\n",
      "C:\\Users\\andre\\Documents\\Work\\Projects\\AnemoneTracking\\data\\processed\\CFP_CYP 2 A \\frame_0489.tiff\n",
      "C:\\Users\\andre\\Documents\\Work\\Projects\\AnemoneTracking\\data\\processed\\CFP_CYP 2 A \\frame_0490.tiff\n",
      "C:\\Users\\andre\\Documents\\Work\\Projects\\AnemoneTracking\\data\\processed\\CFP_CYP 2 A \\frame_0491.tiff\n",
      "C:\\Users\\andre\\Documents\\Work\\Projects\\AnemoneTracking\\data\\processed\\CFP_CYP 2 A \\frame_0492.tiff\n",
      "C:\\Users\\andre\\Documents\\Work\\Projects\\AnemoneTracking\\data\\processed\\CFP_CYP 2 A \\frame_0493.tiff\n",
      "C:\\Users\\andre\\Documents\\Work\\Projects\\AnemoneTracking\\data\\processed\\CFP_CYP 2 A \\frame_0494.tiff\n",
      "C:\\Users\\andre\\Documents\\Work\\Projects\\AnemoneTracking\\data\\processed\\CFP_CYP 2 A \\frame_0495.tiff\n",
      "C:\\Users\\andre\\Documents\\Work\\Projects\\AnemoneTracking\\data\\processed\\CFP_CYP 2 A \\frame_0496.tiff\n",
      "C:\\Users\\andre\\Documents\\Work\\Projects\\AnemoneTracking\\data\\processed\\CFP_CYP 2 A \\frame_0497.tiff\n",
      "C:\\Users\\andre\\Documents\\Work\\Projects\\AnemoneTracking\\data\\processed\\CFP_CYP 2 A \\frame_0498.tiff\n",
      "C:\\Users\\andre\\Documents\\Work\\Projects\\AnemoneTracking\\data\\processed\\CFP_CYP 2 A \\frame_0499.tiff\n",
      "C:\\Users\\andre\\Documents\\Work\\Projects\\AnemoneTracking\\data\\processed\\CFP_CYP 2 A \\frame_0500.tiff\n",
      "C:\\Users\\andre\\Documents\\Work\\Projects\\AnemoneTracking\\data\\processed\\CFP_CYP 2 A \\frame_0501.tiff\n",
      "C:\\Users\\andre\\Documents\\Work\\Projects\\AnemoneTracking\\data\\processed\\CFP_CYP 2 A \\frame_0502.tiff\n",
      "C:\\Users\\andre\\Documents\\Work\\Projects\\AnemoneTracking\\data\\processed\\CFP_CYP 2 A \\frame_0503.tiff\n",
      "C:\\Users\\andre\\Documents\\Work\\Projects\\AnemoneTracking\\data\\processed\\CFP_CYP 2 A \\frame_0504.tiff\n",
      "C:\\Users\\andre\\Documents\\Work\\Projects\\AnemoneTracking\\data\\processed\\CFP_CYP 2 A \\frame_0505.tiff\n",
      "C:\\Users\\andre\\Documents\\Work\\Projects\\AnemoneTracking\\data\\processed\\CFP_CYP 2 A \\frame_0506.tiff\n",
      "C:\\Users\\andre\\Documents\\Work\\Projects\\AnemoneTracking\\data\\processed\\CFP_CYP 2 A \\frame_0507.tiff\n"
     ]
    },
    {
     "name": "stderr",
     "output_type": "stream",
     "text": [
      "Extracting CFP_CYP 2 A :  54%|████████████████████████████▉                         | 518/966 [00:02<00:01, 237.24it/s]"
     ]
    },
    {
     "name": "stdout",
     "output_type": "stream",
     "text": [
      "C:\\Users\\andre\\Documents\\Work\\Projects\\AnemoneTracking\\data\\processed\\CFP_CYP 2 A \\frame_0508.tiff\n",
      "C:\\Users\\andre\\Documents\\Work\\Projects\\AnemoneTracking\\data\\processed\\CFP_CYP 2 A \\frame_0509.tiff\n",
      "C:\\Users\\andre\\Documents\\Work\\Projects\\AnemoneTracking\\data\\processed\\CFP_CYP 2 A \\frame_0510.tiff\n",
      "C:\\Users\\andre\\Documents\\Work\\Projects\\AnemoneTracking\\data\\processed\\CFP_CYP 2 A \\frame_0511.tiff\n",
      "C:\\Users\\andre\\Documents\\Work\\Projects\\AnemoneTracking\\data\\processed\\CFP_CYP 2 A \\frame_0512.tiff\n",
      "C:\\Users\\andre\\Documents\\Work\\Projects\\AnemoneTracking\\data\\processed\\CFP_CYP 2 A \\frame_0513.tiff\n",
      "C:\\Users\\andre\\Documents\\Work\\Projects\\AnemoneTracking\\data\\processed\\CFP_CYP 2 A \\frame_0514.tiff\n",
      "C:\\Users\\andre\\Documents\\Work\\Projects\\AnemoneTracking\\data\\processed\\CFP_CYP 2 A \\frame_0515.tiff\n",
      "C:\\Users\\andre\\Documents\\Work\\Projects\\AnemoneTracking\\data\\processed\\CFP_CYP 2 A \\frame_0516.tiff\n",
      "C:\\Users\\andre\\Documents\\Work\\Projects\\AnemoneTracking\\data\\processed\\CFP_CYP 2 A \\frame_0517.tiff\n",
      "C:\\Users\\andre\\Documents\\Work\\Projects\\AnemoneTracking\\data\\processed\\CFP_CYP 2 A \\frame_0518.tiff\n",
      "C:\\Users\\andre\\Documents\\Work\\Projects\\AnemoneTracking\\data\\processed\\CFP_CYP 2 A \\frame_0519.tiff\n",
      "C:\\Users\\andre\\Documents\\Work\\Projects\\AnemoneTracking\\data\\processed\\CFP_CYP 2 A \\frame_0520.tiff\n",
      "C:\\Users\\andre\\Documents\\Work\\Projects\\AnemoneTracking\\data\\processed\\CFP_CYP 2 A \\frame_0521.tiff\n",
      "C:\\Users\\andre\\Documents\\Work\\Projects\\AnemoneTracking\\data\\processed\\CFP_CYP 2 A \\frame_0522.tiff\n",
      "C:\\Users\\andre\\Documents\\Work\\Projects\\AnemoneTracking\\data\\processed\\CFP_CYP 2 A \\frame_0523.tiff\n",
      "C:\\Users\\andre\\Documents\\Work\\Projects\\AnemoneTracking\\data\\processed\\CFP_CYP 2 A \\frame_0524.tiff\n",
      "C:\\Users\\andre\\Documents\\Work\\Projects\\AnemoneTracking\\data\\processed\\CFP_CYP 2 A \\frame_0525.tiff\n",
      "C:\\Users\\andre\\Documents\\Work\\Projects\\AnemoneTracking\\data\\processed\\CFP_CYP 2 A \\frame_0526.tiff\n"
     ]
    },
    {
     "name": "stderr",
     "output_type": "stream",
     "text": [
      "Extracting CFP_CYP 2 A :  56%|██████████████████████████████▎                       | 542/966 [00:02<00:01, 230.54it/s]"
     ]
    },
    {
     "name": "stdout",
     "output_type": "stream",
     "text": [
      "C:\\Users\\andre\\Documents\\Work\\Projects\\AnemoneTracking\\data\\processed\\CFP_CYP 2 A \\frame_0527.tiff\n",
      "C:\\Users\\andre\\Documents\\Work\\Projects\\AnemoneTracking\\data\\processed\\CFP_CYP 2 A \\frame_0528.tiff\n",
      "C:\\Users\\andre\\Documents\\Work\\Projects\\AnemoneTracking\\data\\processed\\CFP_CYP 2 A \\frame_0529.tiff\n",
      "C:\\Users\\andre\\Documents\\Work\\Projects\\AnemoneTracking\\data\\processed\\CFP_CYP 2 A \\frame_0530.tiff\n",
      "C:\\Users\\andre\\Documents\\Work\\Projects\\AnemoneTracking\\data\\processed\\CFP_CYP 2 A \\frame_0531.tiff\n",
      "C:\\Users\\andre\\Documents\\Work\\Projects\\AnemoneTracking\\data\\processed\\CFP_CYP 2 A \\frame_0532.tiff\n",
      "C:\\Users\\andre\\Documents\\Work\\Projects\\AnemoneTracking\\data\\processed\\CFP_CYP 2 A \\frame_0533.tiff\n",
      "C:\\Users\\andre\\Documents\\Work\\Projects\\AnemoneTracking\\data\\processed\\CFP_CYP 2 A \\frame_0534.tiff\n",
      "C:\\Users\\andre\\Documents\\Work\\Projects\\AnemoneTracking\\data\\processed\\CFP_CYP 2 A \\frame_0535.tiff\n",
      "C:\\Users\\andre\\Documents\\Work\\Projects\\AnemoneTracking\\data\\processed\\CFP_CYP 2 A \\frame_0536.tiff\n",
      "C:\\Users\\andre\\Documents\\Work\\Projects\\AnemoneTracking\\data\\processed\\CFP_CYP 2 A \\frame_0537.tiff\n",
      "C:\\Users\\andre\\Documents\\Work\\Projects\\AnemoneTracking\\data\\processed\\CFP_CYP 2 A \\frame_0538.tiff\n",
      "C:\\Users\\andre\\Documents\\Work\\Projects\\AnemoneTracking\\data\\processed\\CFP_CYP 2 A \\frame_0539.tiff\n",
      "C:\\Users\\andre\\Documents\\Work\\Projects\\AnemoneTracking\\data\\processed\\CFP_CYP 2 A \\frame_0540.tiff\n",
      "C:\\Users\\andre\\Documents\\Work\\Projects\\AnemoneTracking\\data\\processed\\CFP_CYP 2 A \\frame_0541.tiff\n",
      "C:\\Users\\andre\\Documents\\Work\\Projects\\AnemoneTracking\\data\\processed\\CFP_CYP 2 A \\frame_0542.tiff\n",
      "C:\\Users\\andre\\Documents\\Work\\Projects\\AnemoneTracking\\data\\processed\\CFP_CYP 2 A \\frame_0543.tiff\n",
      "C:\\Users\\andre\\Documents\\Work\\Projects\\AnemoneTracking\\data\\processed\\CFP_CYP 2 A \\frame_0544.tiff\n",
      "C:\\Users\\andre\\Documents\\Work\\Projects\\AnemoneTracking\\data\\processed\\CFP_CYP 2 A \\frame_0545.tiff\n",
      "C:\\Users\\andre\\Documents\\Work\\Projects\\AnemoneTracking\\data\\processed\\CFP_CYP 2 A \\frame_0546.tiff\n",
      "C:\\Users\\andre\\Documents\\Work\\Projects\\AnemoneTracking\\data\\processed\\CFP_CYP 2 A \\frame_0547.tiff\n",
      "C:\\Users\\andre\\Documents\\Work\\Projects\\AnemoneTracking\\data\\processed\\CFP_CYP 2 A \\frame_0548.tiff\n",
      "C:\\Users\\andre\\Documents\\Work\\Projects\\AnemoneTracking\\data\\processed\\CFP_CYP 2 A \\frame_0549.tiff\n",
      "C:\\Users\\andre\\Documents\\Work\\Projects\\AnemoneTracking\\data\\processed\\CFP_CYP 2 A \\frame_0550.tiff\n",
      "C:\\Users\\andre\\Documents\\Work\\Projects\\AnemoneTracking\\data\\processed\\CFP_CYP 2 A \\frame_0551.tiff\n"
     ]
    },
    {
     "name": "stderr",
     "output_type": "stream",
     "text": [
      "Extracting CFP_CYP 2 A :  59%|███████████████████████████████▋                      | 566/966 [00:02<00:01, 231.46it/s]"
     ]
    },
    {
     "name": "stdout",
     "output_type": "stream",
     "text": [
      "C:\\Users\\andre\\Documents\\Work\\Projects\\AnemoneTracking\\data\\processed\\CFP_CYP 2 A \\frame_0552.tiff\n",
      "C:\\Users\\andre\\Documents\\Work\\Projects\\AnemoneTracking\\data\\processed\\CFP_CYP 2 A \\frame_0553.tiff\n",
      "C:\\Users\\andre\\Documents\\Work\\Projects\\AnemoneTracking\\data\\processed\\CFP_CYP 2 A \\frame_0554.tiff\n",
      "C:\\Users\\andre\\Documents\\Work\\Projects\\AnemoneTracking\\data\\processed\\CFP_CYP 2 A \\frame_0555.tiff\n",
      "C:\\Users\\andre\\Documents\\Work\\Projects\\AnemoneTracking\\data\\processed\\CFP_CYP 2 A \\frame_0556.tiff\n",
      "C:\\Users\\andre\\Documents\\Work\\Projects\\AnemoneTracking\\data\\processed\\CFP_CYP 2 A \\frame_0557.tiff\n",
      "C:\\Users\\andre\\Documents\\Work\\Projects\\AnemoneTracking\\data\\processed\\CFP_CYP 2 A \\frame_0558.tiff\n",
      "C:\\Users\\andre\\Documents\\Work\\Projects\\AnemoneTracking\\data\\processed\\CFP_CYP 2 A \\frame_0559.tiff\n",
      "C:\\Users\\andre\\Documents\\Work\\Projects\\AnemoneTracking\\data\\processed\\CFP_CYP 2 A \\frame_0560.tiff\n",
      "C:\\Users\\andre\\Documents\\Work\\Projects\\AnemoneTracking\\data\\processed\\CFP_CYP 2 A \\frame_0561.tiff\n",
      "C:\\Users\\andre\\Documents\\Work\\Projects\\AnemoneTracking\\data\\processed\\CFP_CYP 2 A \\frame_0562.tiff\n",
      "C:\\Users\\andre\\Documents\\Work\\Projects\\AnemoneTracking\\data\\processed\\CFP_CYP 2 A \\frame_0563.tiff\n",
      "C:\\Users\\andre\\Documents\\Work\\Projects\\AnemoneTracking\\data\\processed\\CFP_CYP 2 A \\frame_0564.tiff\n",
      "C:\\Users\\andre\\Documents\\Work\\Projects\\AnemoneTracking\\data\\processed\\CFP_CYP 2 A \\frame_0565.tiff\n",
      "C:\\Users\\andre\\Documents\\Work\\Projects\\AnemoneTracking\\data\\processed\\CFP_CYP 2 A \\frame_0566.tiff\n",
      "C:\\Users\\andre\\Documents\\Work\\Projects\\AnemoneTracking\\data\\processed\\CFP_CYP 2 A \\frame_0567.tiff\n",
      "C:\\Users\\andre\\Documents\\Work\\Projects\\AnemoneTracking\\data\\processed\\CFP_CYP 2 A \\frame_0568.tiff\n",
      "C:\\Users\\andre\\Documents\\Work\\Projects\\AnemoneTracking\\data\\processed\\CFP_CYP 2 A \\frame_0569.tiff\n",
      "C:\\Users\\andre\\Documents\\Work\\Projects\\AnemoneTracking\\data\\processed\\CFP_CYP 2 A \\frame_0570.tiff\n",
      "C:\\Users\\andre\\Documents\\Work\\Projects\\AnemoneTracking\\data\\processed\\CFP_CYP 2 A \\frame_0571.tiff\n",
      "C:\\Users\\andre\\Documents\\Work\\Projects\\AnemoneTracking\\data\\processed\\CFP_CYP 2 A \\frame_0572.tiff\n",
      "C:\\Users\\andre\\Documents\\Work\\Projects\\AnemoneTracking\\data\\processed\\CFP_CYP 2 A \\frame_0573.tiff\n",
      "C:\\Users\\andre\\Documents\\Work\\Projects\\AnemoneTracking\\data\\processed\\CFP_CYP 2 A \\frame_0574.tiff\n"
     ]
    },
    {
     "name": "stderr",
     "output_type": "stream",
     "text": [
      "Extracting CFP_CYP 2 A :  61%|████████████████████████████████▉                     | 590/966 [00:02<00:01, 230.70it/s]"
     ]
    },
    {
     "name": "stdout",
     "output_type": "stream",
     "text": [
      "C:\\Users\\andre\\Documents\\Work\\Projects\\AnemoneTracking\\data\\processed\\CFP_CYP 2 A \\frame_0575.tiff\n",
      "C:\\Users\\andre\\Documents\\Work\\Projects\\AnemoneTracking\\data\\processed\\CFP_CYP 2 A \\frame_0576.tiff\n",
      "C:\\Users\\andre\\Documents\\Work\\Projects\\AnemoneTracking\\data\\processed\\CFP_CYP 2 A \\frame_0577.tiff\n",
      "C:\\Users\\andre\\Documents\\Work\\Projects\\AnemoneTracking\\data\\processed\\CFP_CYP 2 A \\frame_0578.tiff\n",
      "C:\\Users\\andre\\Documents\\Work\\Projects\\AnemoneTracking\\data\\processed\\CFP_CYP 2 A \\frame_0579.tiff\n",
      "C:\\Users\\andre\\Documents\\Work\\Projects\\AnemoneTracking\\data\\processed\\CFP_CYP 2 A \\frame_0580.tiff\n",
      "C:\\Users\\andre\\Documents\\Work\\Projects\\AnemoneTracking\\data\\processed\\CFP_CYP 2 A \\frame_0581.tiff\n",
      "C:\\Users\\andre\\Documents\\Work\\Projects\\AnemoneTracking\\data\\processed\\CFP_CYP 2 A \\frame_0582.tiff\n",
      "C:\\Users\\andre\\Documents\\Work\\Projects\\AnemoneTracking\\data\\processed\\CFP_CYP 2 A \\frame_0583.tiff\n",
      "C:\\Users\\andre\\Documents\\Work\\Projects\\AnemoneTracking\\data\\processed\\CFP_CYP 2 A \\frame_0584.tiff\n",
      "C:\\Users\\andre\\Documents\\Work\\Projects\\AnemoneTracking\\data\\processed\\CFP_CYP 2 A \\frame_0585.tiff\n",
      "C:\\Users\\andre\\Documents\\Work\\Projects\\AnemoneTracking\\data\\processed\\CFP_CYP 2 A \\frame_0586.tiff\n",
      "C:\\Users\\andre\\Documents\\Work\\Projects\\AnemoneTracking\\data\\processed\\CFP_CYP 2 A \\frame_0587.tiff\n",
      "C:\\Users\\andre\\Documents\\Work\\Projects\\AnemoneTracking\\data\\processed\\CFP_CYP 2 A \\frame_0588.tiff\n",
      "C:\\Users\\andre\\Documents\\Work\\Projects\\AnemoneTracking\\data\\processed\\CFP_CYP 2 A \\frame_0589.tiff\n",
      "C:\\Users\\andre\\Documents\\Work\\Projects\\AnemoneTracking\\data\\processed\\CFP_CYP 2 A \\frame_0590.tiff\n",
      "C:\\Users\\andre\\Documents\\Work\\Projects\\AnemoneTracking\\data\\processed\\CFP_CYP 2 A \\frame_0591.tiff\n",
      "C:\\Users\\andre\\Documents\\Work\\Projects\\AnemoneTracking\\data\\processed\\CFP_CYP 2 A \\frame_0592.tiff\n",
      "C:\\Users\\andre\\Documents\\Work\\Projects\\AnemoneTracking\\data\\processed\\CFP_CYP 2 A \\frame_0593.tiff\n",
      "C:\\Users\\andre\\Documents\\Work\\Projects\\AnemoneTracking\\data\\processed\\CFP_CYP 2 A \\frame_0594.tiff\n",
      "C:\\Users\\andre\\Documents\\Work\\Projects\\AnemoneTracking\\data\\processed\\CFP_CYP 2 A \\frame_0595.tiff\n",
      "C:\\Users\\andre\\Documents\\Work\\Projects\\AnemoneTracking\\data\\processed\\CFP_CYP 2 A \\frame_0596.tiff\n",
      "C:\\Users\\andre\\Documents\\Work\\Projects\\AnemoneTracking\\data\\processed\\CFP_CYP 2 A \\frame_0597.tiff\n",
      "C:\\Users\\andre\\Documents\\Work\\Projects\\AnemoneTracking\\data\\processed\\CFP_CYP 2 A \\frame_0598.tiff\n",
      "C:\\Users\\andre\\Documents\\Work\\Projects\\AnemoneTracking\\data\\processed\\CFP_CYP 2 A \\frame_0599.tiff\n"
     ]
    },
    {
     "name": "stderr",
     "output_type": "stream",
     "text": [
      "Extracting CFP_CYP 2 A :  64%|██████████████████████████████████▎                   | 614/966 [00:02<00:01, 227.73it/s]"
     ]
    },
    {
     "name": "stdout",
     "output_type": "stream",
     "text": [
      "C:\\Users\\andre\\Documents\\Work\\Projects\\AnemoneTracking\\data\\processed\\CFP_CYP 2 A \\frame_0600.tiff\n",
      "C:\\Users\\andre\\Documents\\Work\\Projects\\AnemoneTracking\\data\\processed\\CFP_CYP 2 A \\frame_0601.tiff\n",
      "C:\\Users\\andre\\Documents\\Work\\Projects\\AnemoneTracking\\data\\processed\\CFP_CYP 2 A \\frame_0602.tiff\n",
      "C:\\Users\\andre\\Documents\\Work\\Projects\\AnemoneTracking\\data\\processed\\CFP_CYP 2 A \\frame_0603.tiff\n",
      "C:\\Users\\andre\\Documents\\Work\\Projects\\AnemoneTracking\\data\\processed\\CFP_CYP 2 A \\frame_0604.tiff\n",
      "C:\\Users\\andre\\Documents\\Work\\Projects\\AnemoneTracking\\data\\processed\\CFP_CYP 2 A \\frame_0605.tiff\n",
      "C:\\Users\\andre\\Documents\\Work\\Projects\\AnemoneTracking\\data\\processed\\CFP_CYP 2 A \\frame_0606.tiff\n",
      "C:\\Users\\andre\\Documents\\Work\\Projects\\AnemoneTracking\\data\\processed\\CFP_CYP 2 A \\frame_0607.tiff\n",
      "C:\\Users\\andre\\Documents\\Work\\Projects\\AnemoneTracking\\data\\processed\\CFP_CYP 2 A \\frame_0608.tiff\n",
      "C:\\Users\\andre\\Documents\\Work\\Projects\\AnemoneTracking\\data\\processed\\CFP_CYP 2 A \\frame_0609.tiff\n",
      "C:\\Users\\andre\\Documents\\Work\\Projects\\AnemoneTracking\\data\\processed\\CFP_CYP 2 A \\frame_0610.tiff\n",
      "C:\\Users\\andre\\Documents\\Work\\Projects\\AnemoneTracking\\data\\processed\\CFP_CYP 2 A \\frame_0611.tiff\n",
      "C:\\Users\\andre\\Documents\\Work\\Projects\\AnemoneTracking\\data\\processed\\CFP_CYP 2 A \\frame_0612.tiff\n",
      "C:\\Users\\andre\\Documents\\Work\\Projects\\AnemoneTracking\\data\\processed\\CFP_CYP 2 A \\frame_0613.tiff\n",
      "C:\\Users\\andre\\Documents\\Work\\Projects\\AnemoneTracking\\data\\processed\\CFP_CYP 2 A \\frame_0614.tiff\n",
      "C:\\Users\\andre\\Documents\\Work\\Projects\\AnemoneTracking\\data\\processed\\CFP_CYP 2 A \\frame_0615.tiff\n",
      "C:\\Users\\andre\\Documents\\Work\\Projects\\AnemoneTracking\\data\\processed\\CFP_CYP 2 A \\frame_0616.tiff\n",
      "C:\\Users\\andre\\Documents\\Work\\Projects\\AnemoneTracking\\data\\processed\\CFP_CYP 2 A \\frame_0617.tiff\n",
      "C:\\Users\\andre\\Documents\\Work\\Projects\\AnemoneTracking\\data\\processed\\CFP_CYP 2 A \\frame_0618.tiff\n",
      "C:\\Users\\andre\\Documents\\Work\\Projects\\AnemoneTracking\\data\\processed\\CFP_CYP 2 A \\frame_0619.tiff\n",
      "C:\\Users\\andre\\Documents\\Work\\Projects\\AnemoneTracking\\data\\processed\\CFP_CYP 2 A \\frame_0620.tiff\n"
     ]
    },
    {
     "name": "stderr",
     "output_type": "stream",
     "text": [
      "Extracting CFP_CYP 2 A :  66%|███████████████████████████████████▊                  | 641/966 [00:02<00:01, 239.24it/s]"
     ]
    },
    {
     "name": "stdout",
     "output_type": "stream",
     "text": [
      "C:\\Users\\andre\\Documents\\Work\\Projects\\AnemoneTracking\\data\\processed\\CFP_CYP 2 A \\frame_0621.tiff\n",
      "C:\\Users\\andre\\Documents\\Work\\Projects\\AnemoneTracking\\data\\processed\\CFP_CYP 2 A \\frame_0622.tiff\n",
      "C:\\Users\\andre\\Documents\\Work\\Projects\\AnemoneTracking\\data\\processed\\CFP_CYP 2 A \\frame_0623.tiff\n",
      "C:\\Users\\andre\\Documents\\Work\\Projects\\AnemoneTracking\\data\\processed\\CFP_CYP 2 A \\frame_0624.tiff\n",
      "C:\\Users\\andre\\Documents\\Work\\Projects\\AnemoneTracking\\data\\processed\\CFP_CYP 2 A \\frame_0625.tiff\n",
      "C:\\Users\\andre\\Documents\\Work\\Projects\\AnemoneTracking\\data\\processed\\CFP_CYP 2 A \\frame_0626.tiff\n",
      "C:\\Users\\andre\\Documents\\Work\\Projects\\AnemoneTracking\\data\\processed\\CFP_CYP 2 A \\frame_0627.tiff\n",
      "C:\\Users\\andre\\Documents\\Work\\Projects\\AnemoneTracking\\data\\processed\\CFP_CYP 2 A \\frame_0628.tiff\n",
      "C:\\Users\\andre\\Documents\\Work\\Projects\\AnemoneTracking\\data\\processed\\CFP_CYP 2 A \\frame_0629.tiff\n",
      "C:\\Users\\andre\\Documents\\Work\\Projects\\AnemoneTracking\\data\\processed\\CFP_CYP 2 A \\frame_0630.tiff\n",
      "C:\\Users\\andre\\Documents\\Work\\Projects\\AnemoneTracking\\data\\processed\\CFP_CYP 2 A \\frame_0631.tiff\n",
      "C:\\Users\\andre\\Documents\\Work\\Projects\\AnemoneTracking\\data\\processed\\CFP_CYP 2 A \\frame_0632.tiff\n",
      "C:\\Users\\andre\\Documents\\Work\\Projects\\AnemoneTracking\\data\\processed\\CFP_CYP 2 A \\frame_0633.tiff\n",
      "C:\\Users\\andre\\Documents\\Work\\Projects\\AnemoneTracking\\data\\processed\\CFP_CYP 2 A \\frame_0634.tiff\n",
      "C:\\Users\\andre\\Documents\\Work\\Projects\\AnemoneTracking\\data\\processed\\CFP_CYP 2 A \\frame_0635.tiff\n",
      "C:\\Users\\andre\\Documents\\Work\\Projects\\AnemoneTracking\\data\\processed\\CFP_CYP 2 A \\frame_0636.tiff\n",
      "C:\\Users\\andre\\Documents\\Work\\Projects\\AnemoneTracking\\data\\processed\\CFP_CYP 2 A \\frame_0637.tiff\n",
      "C:\\Users\\andre\\Documents\\Work\\Projects\\AnemoneTracking\\data\\processed\\CFP_CYP 2 A \\frame_0638.tiff\n",
      "C:\\Users\\andre\\Documents\\Work\\Projects\\AnemoneTracking\\data\\processed\\CFP_CYP 2 A \\frame_0639.tiff\n",
      "C:\\Users\\andre\\Documents\\Work\\Projects\\AnemoneTracking\\data\\processed\\CFP_CYP 2 A \\frame_0640.tiff\n",
      "C:\\Users\\andre\\Documents\\Work\\Projects\\AnemoneTracking\\data\\processed\\CFP_CYP 2 A \\frame_0641.tiff\n",
      "C:\\Users\\andre\\Documents\\Work\\Projects\\AnemoneTracking\\data\\processed\\CFP_CYP 2 A \\frame_0642.tiff\n",
      "C:\\Users\\andre\\Documents\\Work\\Projects\\AnemoneTracking\\data\\processed\\CFP_CYP 2 A \\frame_0643.tiff\n",
      "C:\\Users\\andre\\Documents\\Work\\Projects\\AnemoneTracking\\data\\processed\\CFP_CYP 2 A \\frame_0644.tiff\n",
      "C:\\Users\\andre\\Documents\\Work\\Projects\\AnemoneTracking\\data\\processed\\CFP_CYP 2 A \\frame_0645.tiff\n",
      "C:\\Users\\andre\\Documents\\Work\\Projects\\AnemoneTracking\\data\\processed\\CFP_CYP 2 A \\frame_0646.tiff\n",
      "C:\\Users\\andre\\Documents\\Work\\Projects\\AnemoneTracking\\data\\processed\\CFP_CYP 2 A \\frame_0647.tiff\n",
      "C:\\Users\\andre\\Documents\\Work\\Projects\\AnemoneTracking\\data\\processed\\CFP_CYP 2 A \\frame_0648.tiff\n",
      "C:\\Users\\andre\\Documents\\Work\\Projects\\AnemoneTracking\\data\\processed\\CFP_CYP 2 A \\frame_0649.tiff\n",
      "C:\\Users\\andre\\Documents\\Work\\Projects\\AnemoneTracking\\data\\processed\\CFP_CYP 2 A \\frame_0650.tiff\n",
      "C:\\Users\\andre\\Documents\\Work\\Projects\\AnemoneTracking\\data\\processed\\CFP_CYP 2 A \\frame_0651.tiff\n"
     ]
    },
    {
     "name": "stderr",
     "output_type": "stream",
     "text": [
      "Extracting CFP_CYP 2 A :  69%|█████████████████████████████████████▏                | 666/966 [00:02<00:01, 242.10it/s]"
     ]
    },
    {
     "name": "stdout",
     "output_type": "stream",
     "text": [
      "C:\\Users\\andre\\Documents\\Work\\Projects\\AnemoneTracking\\data\\processed\\CFP_CYP 2 A \\frame_0652.tiff\n",
      "C:\\Users\\andre\\Documents\\Work\\Projects\\AnemoneTracking\\data\\processed\\CFP_CYP 2 A \\frame_0653.tiff\n",
      "C:\\Users\\andre\\Documents\\Work\\Projects\\AnemoneTracking\\data\\processed\\CFP_CYP 2 A \\frame_0654.tiff\n",
      "C:\\Users\\andre\\Documents\\Work\\Projects\\AnemoneTracking\\data\\processed\\CFP_CYP 2 A \\frame_0655.tiff\n",
      "C:\\Users\\andre\\Documents\\Work\\Projects\\AnemoneTracking\\data\\processed\\CFP_CYP 2 A \\frame_0656.tiff\n",
      "C:\\Users\\andre\\Documents\\Work\\Projects\\AnemoneTracking\\data\\processed\\CFP_CYP 2 A \\frame_0657.tiff\n",
      "C:\\Users\\andre\\Documents\\Work\\Projects\\AnemoneTracking\\data\\processed\\CFP_CYP 2 A \\frame_0658.tiff\n",
      "C:\\Users\\andre\\Documents\\Work\\Projects\\AnemoneTracking\\data\\processed\\CFP_CYP 2 A \\frame_0659.tiff\n",
      "C:\\Users\\andre\\Documents\\Work\\Projects\\AnemoneTracking\\data\\processed\\CFP_CYP 2 A \\frame_0660.tiff\n",
      "C:\\Users\\andre\\Documents\\Work\\Projects\\AnemoneTracking\\data\\processed\\CFP_CYP 2 A \\frame_0661.tiff\n",
      "C:\\Users\\andre\\Documents\\Work\\Projects\\AnemoneTracking\\data\\processed\\CFP_CYP 2 A \\frame_0662.tiff\n",
      "C:\\Users\\andre\\Documents\\Work\\Projects\\AnemoneTracking\\data\\processed\\CFP_CYP 2 A \\frame_0663.tiff\n",
      "C:\\Users\\andre\\Documents\\Work\\Projects\\AnemoneTracking\\data\\processed\\CFP_CYP 2 A \\frame_0664.tiff\n",
      "C:\\Users\\andre\\Documents\\Work\\Projects\\AnemoneTracking\\data\\processed\\CFP_CYP 2 A \\frame_0665.tiff\n",
      "C:\\Users\\andre\\Documents\\Work\\Projects\\AnemoneTracking\\data\\processed\\CFP_CYP 2 A \\frame_0666.tiff\n",
      "C:\\Users\\andre\\Documents\\Work\\Projects\\AnemoneTracking\\data\\processed\\CFP_CYP 2 A \\frame_0667.tiff\n",
      "C:\\Users\\andre\\Documents\\Work\\Projects\\AnemoneTracking\\data\\processed\\CFP_CYP 2 A \\frame_0668.tiff\n",
      "C:\\Users\\andre\\Documents\\Work\\Projects\\AnemoneTracking\\data\\processed\\CFP_CYP 2 A \\frame_0669.tiff\n",
      "C:\\Users\\andre\\Documents\\Work\\Projects\\AnemoneTracking\\data\\processed\\CFP_CYP 2 A \\frame_0670.tiff\n",
      "C:\\Users\\andre\\Documents\\Work\\Projects\\AnemoneTracking\\data\\processed\\CFP_CYP 2 A \\frame_0671.tiff\n",
      "C:\\Users\\andre\\Documents\\Work\\Projects\\AnemoneTracking\\data\\processed\\CFP_CYP 2 A \\frame_0672.tiff\n"
     ]
    },
    {
     "name": "stderr",
     "output_type": "stream",
     "text": [
      "Extracting CFP_CYP 2 A :  72%|██████████████████████████████████████▋               | 691/966 [00:03<00:01, 238.66it/s]"
     ]
    },
    {
     "name": "stdout",
     "output_type": "stream",
     "text": [
      "C:\\Users\\andre\\Documents\\Work\\Projects\\AnemoneTracking\\data\\processed\\CFP_CYP 2 A \\frame_0673.tiff\n",
      "C:\\Users\\andre\\Documents\\Work\\Projects\\AnemoneTracking\\data\\processed\\CFP_CYP 2 A \\frame_0674.tiff\n",
      "C:\\Users\\andre\\Documents\\Work\\Projects\\AnemoneTracking\\data\\processed\\CFP_CYP 2 A \\frame_0675.tiff\n",
      "C:\\Users\\andre\\Documents\\Work\\Projects\\AnemoneTracking\\data\\processed\\CFP_CYP 2 A \\frame_0676.tiff\n",
      "C:\\Users\\andre\\Documents\\Work\\Projects\\AnemoneTracking\\data\\processed\\CFP_CYP 2 A \\frame_0677.tiff\n",
      "C:\\Users\\andre\\Documents\\Work\\Projects\\AnemoneTracking\\data\\processed\\CFP_CYP 2 A \\frame_0678.tiff\n",
      "C:\\Users\\andre\\Documents\\Work\\Projects\\AnemoneTracking\\data\\processed\\CFP_CYP 2 A \\frame_0679.tiff\n",
      "C:\\Users\\andre\\Documents\\Work\\Projects\\AnemoneTracking\\data\\processed\\CFP_CYP 2 A \\frame_0680.tiff\n",
      "C:\\Users\\andre\\Documents\\Work\\Projects\\AnemoneTracking\\data\\processed\\CFP_CYP 2 A \\frame_0681.tiff\n",
      "C:\\Users\\andre\\Documents\\Work\\Projects\\AnemoneTracking\\data\\processed\\CFP_CYP 2 A \\frame_0682.tiff\n",
      "C:\\Users\\andre\\Documents\\Work\\Projects\\AnemoneTracking\\data\\processed\\CFP_CYP 2 A \\frame_0683.tiff\n",
      "C:\\Users\\andre\\Documents\\Work\\Projects\\AnemoneTracking\\data\\processed\\CFP_CYP 2 A \\frame_0684.tiff\n",
      "C:\\Users\\andre\\Documents\\Work\\Projects\\AnemoneTracking\\data\\processed\\CFP_CYP 2 A \\frame_0685.tiff\n",
      "C:\\Users\\andre\\Documents\\Work\\Projects\\AnemoneTracking\\data\\processed\\CFP_CYP 2 A \\frame_0686.tiff\n",
      "C:\\Users\\andre\\Documents\\Work\\Projects\\AnemoneTracking\\data\\processed\\CFP_CYP 2 A \\frame_0687.tiff\n",
      "C:\\Users\\andre\\Documents\\Work\\Projects\\AnemoneTracking\\data\\processed\\CFP_CYP 2 A \\frame_0688.tiff\n",
      "C:\\Users\\andre\\Documents\\Work\\Projects\\AnemoneTracking\\data\\processed\\CFP_CYP 2 A \\frame_0689.tiff\n",
      "C:\\Users\\andre\\Documents\\Work\\Projects\\AnemoneTracking\\data\\processed\\CFP_CYP 2 A \\frame_0690.tiff\n",
      "C:\\Users\\andre\\Documents\\Work\\Projects\\AnemoneTracking\\data\\processed\\CFP_CYP 2 A \\frame_0691.tiff\n",
      "C:\\Users\\andre\\Documents\\Work\\Projects\\AnemoneTracking\\data\\processed\\CFP_CYP 2 A \\frame_0692.tiff\n",
      "C:\\Users\\andre\\Documents\\Work\\Projects\\AnemoneTracking\\data\\processed\\CFP_CYP 2 A \\frame_0693.tiff\n",
      "C:\\Users\\andre\\Documents\\Work\\Projects\\AnemoneTracking\\data\\processed\\CFP_CYP 2 A \\frame_0694.tiff\n",
      "C:\\Users\\andre\\Documents\\Work\\Projects\\AnemoneTracking\\data\\processed\\CFP_CYP 2 A \\frame_0695.tiff\n"
     ]
    },
    {
     "name": "stderr",
     "output_type": "stream",
     "text": [
      "Extracting CFP_CYP 2 A :  74%|███████████████████████████████████████▉              | 715/966 [00:03<00:01, 228.59it/s]"
     ]
    },
    {
     "name": "stdout",
     "output_type": "stream",
     "text": [
      "C:\\Users\\andre\\Documents\\Work\\Projects\\AnemoneTracking\\data\\processed\\CFP_CYP 2 A \\frame_0696.tiff\n",
      "C:\\Users\\andre\\Documents\\Work\\Projects\\AnemoneTracking\\data\\processed\\CFP_CYP 2 A \\frame_0697.tiff\n",
      "C:\\Users\\andre\\Documents\\Work\\Projects\\AnemoneTracking\\data\\processed\\CFP_CYP 2 A \\frame_0698.tiff\n",
      "C:\\Users\\andre\\Documents\\Work\\Projects\\AnemoneTracking\\data\\processed\\CFP_CYP 2 A \\frame_0699.tiff\n",
      "C:\\Users\\andre\\Documents\\Work\\Projects\\AnemoneTracking\\data\\processed\\CFP_CYP 2 A \\frame_0700.tiff\n",
      "C:\\Users\\andre\\Documents\\Work\\Projects\\AnemoneTracking\\data\\processed\\CFP_CYP 2 A \\frame_0701.tiff\n",
      "C:\\Users\\andre\\Documents\\Work\\Projects\\AnemoneTracking\\data\\processed\\CFP_CYP 2 A \\frame_0702.tiff\n",
      "C:\\Users\\andre\\Documents\\Work\\Projects\\AnemoneTracking\\data\\processed\\CFP_CYP 2 A \\frame_0703.tiff\n",
      "C:\\Users\\andre\\Documents\\Work\\Projects\\AnemoneTracking\\data\\processed\\CFP_CYP 2 A \\frame_0704.tiff\n",
      "C:\\Users\\andre\\Documents\\Work\\Projects\\AnemoneTracking\\data\\processed\\CFP_CYP 2 A \\frame_0705.tiff\n",
      "C:\\Users\\andre\\Documents\\Work\\Projects\\AnemoneTracking\\data\\processed\\CFP_CYP 2 A \\frame_0706.tiff\n",
      "C:\\Users\\andre\\Documents\\Work\\Projects\\AnemoneTracking\\data\\processed\\CFP_CYP 2 A \\frame_0707.tiff\n",
      "C:\\Users\\andre\\Documents\\Work\\Projects\\AnemoneTracking\\data\\processed\\CFP_CYP 2 A \\frame_0708.tiff\n",
      "C:\\Users\\andre\\Documents\\Work\\Projects\\AnemoneTracking\\data\\processed\\CFP_CYP 2 A \\frame_0709.tiff\n",
      "C:\\Users\\andre\\Documents\\Work\\Projects\\AnemoneTracking\\data\\processed\\CFP_CYP 2 A \\frame_0710.tiff\n",
      "C:\\Users\\andre\\Documents\\Work\\Projects\\AnemoneTracking\\data\\processed\\CFP_CYP 2 A \\frame_0711.tiff\n",
      "C:\\Users\\andre\\Documents\\Work\\Projects\\AnemoneTracking\\data\\processed\\CFP_CYP 2 A \\frame_0712.tiff\n",
      "C:\\Users\\andre\\Documents\\Work\\Projects\\AnemoneTracking\\data\\processed\\CFP_CYP 2 A \\frame_0713.tiff\n",
      "C:\\Users\\andre\\Documents\\Work\\Projects\\AnemoneTracking\\data\\processed\\CFP_CYP 2 A \\frame_0714.tiff\n"
     ]
    },
    {
     "name": "stderr",
     "output_type": "stream",
     "text": [
      "Extracting CFP_CYP 2 A :  77%|█████████████████████████████████████████▎            | 740/966 [00:03<00:00, 233.81it/s]"
     ]
    },
    {
     "name": "stdout",
     "output_type": "stream",
     "text": [
      "C:\\Users\\andre\\Documents\\Work\\Projects\\AnemoneTracking\\data\\processed\\CFP_CYP 2 A \\frame_0715.tiff\n",
      "C:\\Users\\andre\\Documents\\Work\\Projects\\AnemoneTracking\\data\\processed\\CFP_CYP 2 A \\frame_0716.tiff\n",
      "C:\\Users\\andre\\Documents\\Work\\Projects\\AnemoneTracking\\data\\processed\\CFP_CYP 2 A \\frame_0717.tiff\n",
      "C:\\Users\\andre\\Documents\\Work\\Projects\\AnemoneTracking\\data\\processed\\CFP_CYP 2 A \\frame_0718.tiff\n",
      "C:\\Users\\andre\\Documents\\Work\\Projects\\AnemoneTracking\\data\\processed\\CFP_CYP 2 A \\frame_0719.tiff\n",
      "C:\\Users\\andre\\Documents\\Work\\Projects\\AnemoneTracking\\data\\processed\\CFP_CYP 2 A \\frame_0720.tiff\n",
      "C:\\Users\\andre\\Documents\\Work\\Projects\\AnemoneTracking\\data\\processed\\CFP_CYP 2 A \\frame_0721.tiff\n",
      "C:\\Users\\andre\\Documents\\Work\\Projects\\AnemoneTracking\\data\\processed\\CFP_CYP 2 A \\frame_0722.tiff\n",
      "C:\\Users\\andre\\Documents\\Work\\Projects\\AnemoneTracking\\data\\processed\\CFP_CYP 2 A \\frame_0723.tiff\n",
      "C:\\Users\\andre\\Documents\\Work\\Projects\\AnemoneTracking\\data\\processed\\CFP_CYP 2 A \\frame_0724.tiff\n",
      "C:\\Users\\andre\\Documents\\Work\\Projects\\AnemoneTracking\\data\\processed\\CFP_CYP 2 A \\frame_0725.tiff\n",
      "C:\\Users\\andre\\Documents\\Work\\Projects\\AnemoneTracking\\data\\processed\\CFP_CYP 2 A \\frame_0726.tiff\n",
      "C:\\Users\\andre\\Documents\\Work\\Projects\\AnemoneTracking\\data\\processed\\CFP_CYP 2 A \\frame_0727.tiff\n",
      "C:\\Users\\andre\\Documents\\Work\\Projects\\AnemoneTracking\\data\\processed\\CFP_CYP 2 A \\frame_0728.tiff\n",
      "C:\\Users\\andre\\Documents\\Work\\Projects\\AnemoneTracking\\data\\processed\\CFP_CYP 2 A \\frame_0729.tiff\n",
      "C:\\Users\\andre\\Documents\\Work\\Projects\\AnemoneTracking\\data\\processed\\CFP_CYP 2 A \\frame_0730.tiff\n",
      "C:\\Users\\andre\\Documents\\Work\\Projects\\AnemoneTracking\\data\\processed\\CFP_CYP 2 A \\frame_0731.tiff\n",
      "C:\\Users\\andre\\Documents\\Work\\Projects\\AnemoneTracking\\data\\processed\\CFP_CYP 2 A \\frame_0732.tiff\n",
      "C:\\Users\\andre\\Documents\\Work\\Projects\\AnemoneTracking\\data\\processed\\CFP_CYP 2 A \\frame_0733.tiff\n",
      "C:\\Users\\andre\\Documents\\Work\\Projects\\AnemoneTracking\\data\\processed\\CFP_CYP 2 A \\frame_0734.tiff\n",
      "C:\\Users\\andre\\Documents\\Work\\Projects\\AnemoneTracking\\data\\processed\\CFP_CYP 2 A \\frame_0735.tiff\n",
      "C:\\Users\\andre\\Documents\\Work\\Projects\\AnemoneTracking\\data\\processed\\CFP_CYP 2 A \\frame_0736.tiff\n",
      "C:\\Users\\andre\\Documents\\Work\\Projects\\AnemoneTracking\\data\\processed\\CFP_CYP 2 A \\frame_0737.tiff\n",
      "C:\\Users\\andre\\Documents\\Work\\Projects\\AnemoneTracking\\data\\processed\\CFP_CYP 2 A \\frame_0738.tiff\n",
      "C:\\Users\\andre\\Documents\\Work\\Projects\\AnemoneTracking\\data\\processed\\CFP_CYP 2 A \\frame_0739.tiff\n",
      "C:\\Users\\andre\\Documents\\Work\\Projects\\AnemoneTracking\\data\\processed\\CFP_CYP 2 A \\frame_0740.tiff\n",
      "C:\\Users\\andre\\Documents\\Work\\Projects\\AnemoneTracking\\data\\processed\\CFP_CYP 2 A \\frame_0741.tiff\n",
      "C:\\Users\\andre\\Documents\\Work\\Projects\\AnemoneTracking\\data\\processed\\CFP_CYP 2 A \\frame_0742.tiff\n",
      "C:\\Users\\andre\\Documents\\Work\\Projects\\AnemoneTracking\\data\\processed\\CFP_CYP 2 A \\frame_0743.tiff\n",
      "C:\\Users\\andre\\Documents\\Work\\Projects\\AnemoneTracking\\data\\processed\\CFP_CYP 2 A \\frame_0744.tiff\n",
      "C:\\Users\\andre\\Documents\\Work\\Projects\\AnemoneTracking\\data\\processed\\CFP_CYP 2 A \\frame_0745.tiff\n",
      "C:\\Users\\andre\\Documents\\Work\\Projects\\AnemoneTracking\\data\\processed\\CFP_CYP 2 A \\frame_0746.tiff\n",
      "C:\\Users\\andre\\Documents\\Work\\Projects\\AnemoneTracking\\data\\processed\\CFP_CYP 2 A \\frame_0747.tiff\n",
      "C:\\Users\\andre\\Documents\\Work\\Projects\\AnemoneTracking\\data\\processed\\CFP_CYP 2 A \\frame_0748.tiff\n",
      "C:\\Users\\andre\\Documents\\Work\\Projects\\AnemoneTracking\\data\\processed\\CFP_CYP 2 A \\frame_0749.tiff\n",
      "C:\\Users\\andre\\Documents\\Work\\Projects\\AnemoneTracking\\data\\processed\\CFP_CYP 2 A \\frame_0750.tiff\n",
      "C:\\Users\\andre\\Documents\\Work\\Projects\\AnemoneTracking\\data\\processed\\CFP_CYP 2 A \\frame_0751.tiff\n",
      "C:\\Users\\andre\\Documents\\Work\\Projects\\AnemoneTracking\\data\\processed\\CFP_CYP 2 A \\frame_0752.tiff\n",
      "C:\\Users\\andre\\Documents\\Work\\Projects\\AnemoneTracking\\data\\processed\\CFP_CYP 2 A \\frame_0753.tiff\n",
      "C:\\Users\\andre\\Documents\\Work\\Projects\\AnemoneTracking\\data\\processed\\CFP_CYP 2 A \\frame_0754.tiff\n",
      "C:\\Users\\andre\\Documents\\Work\\Projects\\AnemoneTracking\\data\\processed\\CFP_CYP 2 A \\frame_0755.tiff\n",
      "C:\\Users\\andre\\Documents\\Work\\Projects\\AnemoneTracking\\data\\processed\\CFP_CYP 2 A \\frame_0756.tiff\n",
      "C:\\Users\\andre\\Documents\\Work\\Projects\\AnemoneTracking\\data\\processed\\CFP_CYP 2 A \\frame_0757.tiff\n",
      "C:\\Users\\andre\\Documents\\Work\\Projects\\AnemoneTracking\\data\\processed\\CFP_CYP 2 A \\frame_0758.tiff\n",
      "C:\\Users\\andre\\Documents\\Work\\Projects\\AnemoneTracking\\data\\processed\\CFP_CYP 2 A \\frame_0759.tiff\n"
     ]
    },
    {
     "name": "stderr",
     "output_type": "stream",
     "text": [
      "Extracting CFP_CYP 2 A :  79%|██████████████████████████████████████████▋           | 764/966 [00:03<00:00, 224.97it/s]"
     ]
    },
    {
     "name": "stdout",
     "output_type": "stream",
     "text": [
      "C:\\Users\\andre\\Documents\\Work\\Projects\\AnemoneTracking\\data\\processed\\CFP_CYP 2 A \\frame_0760.tiff\n",
      "C:\\Users\\andre\\Documents\\Work\\Projects\\AnemoneTracking\\data\\processed\\CFP_CYP 2 A \\frame_0761.tiff\n",
      "C:\\Users\\andre\\Documents\\Work\\Projects\\AnemoneTracking\\data\\processed\\CFP_CYP 2 A \\frame_0762.tiff\n",
      "C:\\Users\\andre\\Documents\\Work\\Projects\\AnemoneTracking\\data\\processed\\CFP_CYP 2 A \\frame_0763.tiff\n",
      "C:\\Users\\andre\\Documents\\Work\\Projects\\AnemoneTracking\\data\\processed\\CFP_CYP 2 A \\frame_0764.tiff\n",
      "C:\\Users\\andre\\Documents\\Work\\Projects\\AnemoneTracking\\data\\processed\\CFP_CYP 2 A \\frame_0765.tiff\n",
      "C:\\Users\\andre\\Documents\\Work\\Projects\\AnemoneTracking\\data\\processed\\CFP_CYP 2 A \\frame_0766.tiff\n",
      "C:\\Users\\andre\\Documents\\Work\\Projects\\AnemoneTracking\\data\\processed\\CFP_CYP 2 A \\frame_0767.tiff\n",
      "C:\\Users\\andre\\Documents\\Work\\Projects\\AnemoneTracking\\data\\processed\\CFP_CYP 2 A \\frame_0768.tiff\n",
      "C:\\Users\\andre\\Documents\\Work\\Projects\\AnemoneTracking\\data\\processed\\CFP_CYP 2 A \\frame_0769.tiff\n",
      "C:\\Users\\andre\\Documents\\Work\\Projects\\AnemoneTracking\\data\\processed\\CFP_CYP 2 A \\frame_0770.tiff\n",
      "C:\\Users\\andre\\Documents\\Work\\Projects\\AnemoneTracking\\data\\processed\\CFP_CYP 2 A \\frame_0771.tiff\n",
      "C:\\Users\\andre\\Documents\\Work\\Projects\\AnemoneTracking\\data\\processed\\CFP_CYP 2 A \\frame_0772.tiff\n",
      "C:\\Users\\andre\\Documents\\Work\\Projects\\AnemoneTracking\\data\\processed\\CFP_CYP 2 A \\frame_0773.tiff\n",
      "C:\\Users\\andre\\Documents\\Work\\Projects\\AnemoneTracking\\data\\processed\\CFP_CYP 2 A \\frame_0774.tiff\n",
      "C:\\Users\\andre\\Documents\\Work\\Projects\\AnemoneTracking\\data\\processed\\CFP_CYP 2 A \\frame_0775.tiff\n",
      "C:\\Users\\andre\\Documents\\Work\\Projects\\AnemoneTracking\\data\\processed\\CFP_CYP 2 A \\frame_0776.tiff\n",
      "C:\\Users\\andre\\Documents\\Work\\Projects\\AnemoneTracking\\data\\processed\\CFP_CYP 2 A \\frame_0777.tiff\n",
      "C:\\Users\\andre\\Documents\\Work\\Projects\\AnemoneTracking\\data\\processed\\CFP_CYP 2 A \\frame_0778.tiff\n",
      "C:\\Users\\andre\\Documents\\Work\\Projects\\AnemoneTracking\\data\\processed\\CFP_CYP 2 A \\frame_0779.tiff\n",
      "C:\\Users\\andre\\Documents\\Work\\Projects\\AnemoneTracking\\data\\processed\\CFP_CYP 2 A \\frame_0780.tiff\n",
      "C:\\Users\\andre\\Documents\\Work\\Projects\\AnemoneTracking\\data\\processed\\CFP_CYP 2 A \\frame_0781.tiff\n",
      "C:\\Users\\andre\\Documents\\Work\\Projects\\AnemoneTracking\\data\\processed\\CFP_CYP 2 A \\frame_0782.tiff\n",
      "C:\\Users\\andre\\Documents\\Work\\Projects\\AnemoneTracking\\data\\processed\\CFP_CYP 2 A \\frame_0783.tiff\n",
      "C:\\Users\\andre\\Documents\\Work\\Projects\\AnemoneTracking\\data\\processed\\CFP_CYP 2 A \\frame_0784.tiff\n",
      "C:\\Users\\andre\\Documents\\Work\\Projects\\AnemoneTracking\\data\\processed\\CFP_CYP 2 A \\frame_0785.tiff\n"
     ]
    },
    {
     "name": "stderr",
     "output_type": "stream",
     "text": [
      "Extracting CFP_CYP 2 A :  81%|███████████████████████████████████████████▉          | 787/966 [00:03<00:00, 226.25it/s]"
     ]
    },
    {
     "name": "stdout",
     "output_type": "stream",
     "text": [
      "C:\\Users\\andre\\Documents\\Work\\Projects\\AnemoneTracking\\data\\processed\\CFP_CYP 2 A \\frame_0786.tiff\n",
      "C:\\Users\\andre\\Documents\\Work\\Projects\\AnemoneTracking\\data\\processed\\CFP_CYP 2 A \\frame_0787.tiff\n",
      "C:\\Users\\andre\\Documents\\Work\\Projects\\AnemoneTracking\\data\\processed\\CFP_CYP 2 A \\frame_0788.tiff\n",
      "C:\\Users\\andre\\Documents\\Work\\Projects\\AnemoneTracking\\data\\processed\\CFP_CYP 2 A \\frame_0789.tiff\n",
      "C:\\Users\\andre\\Documents\\Work\\Projects\\AnemoneTracking\\data\\processed\\CFP_CYP 2 A \\frame_0790.tiff\n",
      "C:\\Users\\andre\\Documents\\Work\\Projects\\AnemoneTracking\\data\\processed\\CFP_CYP 2 A \\frame_0791.tiff\n",
      "C:\\Users\\andre\\Documents\\Work\\Projects\\AnemoneTracking\\data\\processed\\CFP_CYP 2 A \\frame_0792.tiff\n",
      "C:\\Users\\andre\\Documents\\Work\\Projects\\AnemoneTracking\\data\\processed\\CFP_CYP 2 A \\frame_0793.tiff\n",
      "C:\\Users\\andre\\Documents\\Work\\Projects\\AnemoneTracking\\data\\processed\\CFP_CYP 2 A \\frame_0794.tiff\n",
      "C:\\Users\\andre\\Documents\\Work\\Projects\\AnemoneTracking\\data\\processed\\CFP_CYP 2 A \\frame_0795.tiff\n",
      "C:\\Users\\andre\\Documents\\Work\\Projects\\AnemoneTracking\\data\\processed\\CFP_CYP 2 A \\frame_0796.tiff\n",
      "C:\\Users\\andre\\Documents\\Work\\Projects\\AnemoneTracking\\data\\processed\\CFP_CYP 2 A \\frame_0797.tiff\n",
      "C:\\Users\\andre\\Documents\\Work\\Projects\\AnemoneTracking\\data\\processed\\CFP_CYP 2 A \\frame_0798.tiff\n",
      "C:\\Users\\andre\\Documents\\Work\\Projects\\AnemoneTracking\\data\\processed\\CFP_CYP 2 A \\frame_0799.tiff\n",
      "C:\\Users\\andre\\Documents\\Work\\Projects\\AnemoneTracking\\data\\processed\\CFP_CYP 2 A \\frame_0800.tiff\n",
      "C:\\Users\\andre\\Documents\\Work\\Projects\\AnemoneTracking\\data\\processed\\CFP_CYP 2 A \\frame_0801.tiff\n",
      "C:\\Users\\andre\\Documents\\Work\\Projects\\AnemoneTracking\\data\\processed\\CFP_CYP 2 A \\frame_0802.tiff\n"
     ]
    },
    {
     "name": "stderr",
     "output_type": "stream",
     "text": [
      "Extracting CFP_CYP 2 A :  84%|█████████████████████████████████████████████▎        | 810/966 [00:03<00:00, 225.52it/s]"
     ]
    },
    {
     "name": "stdout",
     "output_type": "stream",
     "text": [
      "C:\\Users\\andre\\Documents\\Work\\Projects\\AnemoneTracking\\data\\processed\\CFP_CYP 2 A \\frame_0803.tiff\n",
      "C:\\Users\\andre\\Documents\\Work\\Projects\\AnemoneTracking\\data\\processed\\CFP_CYP 2 A \\frame_0804.tiff\n",
      "C:\\Users\\andre\\Documents\\Work\\Projects\\AnemoneTracking\\data\\processed\\CFP_CYP 2 A \\frame_0805.tiff\n",
      "C:\\Users\\andre\\Documents\\Work\\Projects\\AnemoneTracking\\data\\processed\\CFP_CYP 2 A \\frame_0806.tiff\n",
      "C:\\Users\\andre\\Documents\\Work\\Projects\\AnemoneTracking\\data\\processed\\CFP_CYP 2 A \\frame_0807.tiff\n",
      "C:\\Users\\andre\\Documents\\Work\\Projects\\AnemoneTracking\\data\\processed\\CFP_CYP 2 A \\frame_0808.tiff\n",
      "C:\\Users\\andre\\Documents\\Work\\Projects\\AnemoneTracking\\data\\processed\\CFP_CYP 2 A \\frame_0809.tiff\n",
      "C:\\Users\\andre\\Documents\\Work\\Projects\\AnemoneTracking\\data\\processed\\CFP_CYP 2 A \\frame_0810.tiff\n",
      "C:\\Users\\andre\\Documents\\Work\\Projects\\AnemoneTracking\\data\\processed\\CFP_CYP 2 A \\frame_0811.tiff\n",
      "C:\\Users\\andre\\Documents\\Work\\Projects\\AnemoneTracking\\data\\processed\\CFP_CYP 2 A \\frame_0812.tiff\n",
      "C:\\Users\\andre\\Documents\\Work\\Projects\\AnemoneTracking\\data\\processed\\CFP_CYP 2 A \\frame_0813.tiff\n",
      "C:\\Users\\andre\\Documents\\Work\\Projects\\AnemoneTracking\\data\\processed\\CFP_CYP 2 A \\frame_0814.tiff\n",
      "C:\\Users\\andre\\Documents\\Work\\Projects\\AnemoneTracking\\data\\processed\\CFP_CYP 2 A \\frame_0815.tiff\n",
      "C:\\Users\\andre\\Documents\\Work\\Projects\\AnemoneTracking\\data\\processed\\CFP_CYP 2 A \\frame_0816.tiff\n",
      "C:\\Users\\andre\\Documents\\Work\\Projects\\AnemoneTracking\\data\\processed\\CFP_CYP 2 A \\frame_0817.tiff\n",
      "C:\\Users\\andre\\Documents\\Work\\Projects\\AnemoneTracking\\data\\processed\\CFP_CYP 2 A \\frame_0818.tiff\n",
      "C:\\Users\\andre\\Documents\\Work\\Projects\\AnemoneTracking\\data\\processed\\CFP_CYP 2 A \\frame_0819.tiff\n",
      "C:\\Users\\andre\\Documents\\Work\\Projects\\AnemoneTracking\\data\\processed\\CFP_CYP 2 A \\frame_0820.tiff\n",
      "C:\\Users\\andre\\Documents\\Work\\Projects\\AnemoneTracking\\data\\processed\\CFP_CYP 2 A \\frame_0821.tiff\n",
      "C:\\Users\\andre\\Documents\\Work\\Projects\\AnemoneTracking\\data\\processed\\CFP_CYP 2 A \\frame_0822.tiff\n",
      "C:\\Users\\andre\\Documents\\Work\\Projects\\AnemoneTracking\\data\\processed\\CFP_CYP 2 A \\frame_0823.tiff\n",
      "C:\\Users\\andre\\Documents\\Work\\Projects\\AnemoneTracking\\data\\processed\\CFP_CYP 2 A \\frame_0824.tiff\n",
      "C:\\Users\\andre\\Documents\\Work\\Projects\\AnemoneTracking\\data\\processed\\CFP_CYP 2 A \\frame_0825.tiff\n",
      "C:\\Users\\andre\\Documents\\Work\\Projects\\AnemoneTracking\\data\\processed\\CFP_CYP 2 A \\frame_0826.tiff\n",
      "C:\\Users\\andre\\Documents\\Work\\Projects\\AnemoneTracking\\data\\processed\\CFP_CYP 2 A \\frame_0827.tiff\n",
      "C:\\Users\\andre\\Documents\\Work\\Projects\\AnemoneTracking\\data\\processed\\CFP_CYP 2 A \\frame_0828.tiff\n",
      "C:\\Users\\andre\\Documents\\Work\\Projects\\AnemoneTracking\\data\\processed\\CFP_CYP 2 A \\frame_0829.tiff\n",
      "C:\\Users\\andre\\Documents\\Work\\Projects\\AnemoneTracking\\data\\processed\\CFP_CYP 2 A \\frame_0830.tiff\n"
     ]
    },
    {
     "name": "stderr",
     "output_type": "stream",
     "text": [
      "Extracting CFP_CYP 2 A :  86%|██████████████████████████████████████████████▌       | 834/966 [00:03<00:00, 227.75it/s]"
     ]
    },
    {
     "name": "stdout",
     "output_type": "stream",
     "text": [
      "C:\\Users\\andre\\Documents\\Work\\Projects\\AnemoneTracking\\data\\processed\\CFP_CYP 2 A \\frame_0831.tiff\n",
      "C:\\Users\\andre\\Documents\\Work\\Projects\\AnemoneTracking\\data\\processed\\CFP_CYP 2 A \\frame_0832.tiff\n",
      "C:\\Users\\andre\\Documents\\Work\\Projects\\AnemoneTracking\\data\\processed\\CFP_CYP 2 A \\frame_0833.tiff\n",
      "C:\\Users\\andre\\Documents\\Work\\Projects\\AnemoneTracking\\data\\processed\\CFP_CYP 2 A \\frame_0834.tiff\n",
      "C:\\Users\\andre\\Documents\\Work\\Projects\\AnemoneTracking\\data\\processed\\CFP_CYP 2 A \\frame_0835.tiff\n",
      "C:\\Users\\andre\\Documents\\Work\\Projects\\AnemoneTracking\\data\\processed\\CFP_CYP 2 A \\frame_0836.tiff\n",
      "C:\\Users\\andre\\Documents\\Work\\Projects\\AnemoneTracking\\data\\processed\\CFP_CYP 2 A \\frame_0837.tiff\n",
      "C:\\Users\\andre\\Documents\\Work\\Projects\\AnemoneTracking\\data\\processed\\CFP_CYP 2 A \\frame_0838.tiff\n",
      "C:\\Users\\andre\\Documents\\Work\\Projects\\AnemoneTracking\\data\\processed\\CFP_CYP 2 A \\frame_0839.tiff\n",
      "C:\\Users\\andre\\Documents\\Work\\Projects\\AnemoneTracking\\data\\processed\\CFP_CYP 2 A \\frame_0840.tiff\n",
      "C:\\Users\\andre\\Documents\\Work\\Projects\\AnemoneTracking\\data\\processed\\CFP_CYP 2 A \\frame_0841.tiff\n",
      "C:\\Users\\andre\\Documents\\Work\\Projects\\AnemoneTracking\\data\\processed\\CFP_CYP 2 A \\frame_0842.tiff\n",
      "C:\\Users\\andre\\Documents\\Work\\Projects\\AnemoneTracking\\data\\processed\\CFP_CYP 2 A \\frame_0843.tiff\n",
      "C:\\Users\\andre\\Documents\\Work\\Projects\\AnemoneTracking\\data\\processed\\CFP_CYP 2 A \\frame_0844.tiff\n"
     ]
    },
    {
     "name": "stderr",
     "output_type": "stream",
     "text": [
      "Extracting CFP_CYP 2 A :  89%|███████████████████████████████████████████████▉      | 857/966 [00:03<00:00, 225.12it/s]"
     ]
    },
    {
     "name": "stdout",
     "output_type": "stream",
     "text": [
      "C:\\Users\\andre\\Documents\\Work\\Projects\\AnemoneTracking\\data\\processed\\CFP_CYP 2 A \\frame_0845.tiff\n",
      "C:\\Users\\andre\\Documents\\Work\\Projects\\AnemoneTracking\\data\\processed\\CFP_CYP 2 A \\frame_0846.tiff\n",
      "C:\\Users\\andre\\Documents\\Work\\Projects\\AnemoneTracking\\data\\processed\\CFP_CYP 2 A \\frame_0847.tiff\n",
      "C:\\Users\\andre\\Documents\\Work\\Projects\\AnemoneTracking\\data\\processed\\CFP_CYP 2 A \\frame_0848.tiff\n",
      "C:\\Users\\andre\\Documents\\Work\\Projects\\AnemoneTracking\\data\\processed\\CFP_CYP 2 A \\frame_0849.tiff\n",
      "C:\\Users\\andre\\Documents\\Work\\Projects\\AnemoneTracking\\data\\processed\\CFP_CYP 2 A \\frame_0850.tiff\n",
      "C:\\Users\\andre\\Documents\\Work\\Projects\\AnemoneTracking\\data\\processed\\CFP_CYP 2 A \\frame_0851.tiff\n",
      "C:\\Users\\andre\\Documents\\Work\\Projects\\AnemoneTracking\\data\\processed\\CFP_CYP 2 A \\frame_0852.tiff\n",
      "C:\\Users\\andre\\Documents\\Work\\Projects\\AnemoneTracking\\data\\processed\\CFP_CYP 2 A \\frame_0853.tiff\n",
      "C:\\Users\\andre\\Documents\\Work\\Projects\\AnemoneTracking\\data\\processed\\CFP_CYP 2 A \\frame_0854.tiff\n",
      "C:\\Users\\andre\\Documents\\Work\\Projects\\AnemoneTracking\\data\\processed\\CFP_CYP 2 A \\frame_0855.tiff\n",
      "C:\\Users\\andre\\Documents\\Work\\Projects\\AnemoneTracking\\data\\processed\\CFP_CYP 2 A \\frame_0856.tiff\n",
      "C:\\Users\\andre\\Documents\\Work\\Projects\\AnemoneTracking\\data\\processed\\CFP_CYP 2 A \\frame_0857.tiff\n",
      "C:\\Users\\andre\\Documents\\Work\\Projects\\AnemoneTracking\\data\\processed\\CFP_CYP 2 A \\frame_0858.tiff\n",
      "C:\\Users\\andre\\Documents\\Work\\Projects\\AnemoneTracking\\data\\processed\\CFP_CYP 2 A \\frame_0859.tiff\n",
      "C:\\Users\\andre\\Documents\\Work\\Projects\\AnemoneTracking\\data\\processed\\CFP_CYP 2 A \\frame_0860.tiff\n",
      "C:\\Users\\andre\\Documents\\Work\\Projects\\AnemoneTracking\\data\\processed\\CFP_CYP 2 A \\frame_0861.tiff\n",
      "C:\\Users\\andre\\Documents\\Work\\Projects\\AnemoneTracking\\data\\processed\\CFP_CYP 2 A \\frame_0862.tiff\n",
      "C:\\Users\\andre\\Documents\\Work\\Projects\\AnemoneTracking\\data\\processed\\CFP_CYP 2 A \\frame_0863.tiff\n",
      "C:\\Users\\andre\\Documents\\Work\\Projects\\AnemoneTracking\\data\\processed\\CFP_CYP 2 A \\frame_0864.tiff\n",
      "C:\\Users\\andre\\Documents\\Work\\Projects\\AnemoneTracking\\data\\processed\\CFP_CYP 2 A \\frame_0865.tiff\n",
      "C:\\Users\\andre\\Documents\\Work\\Projects\\AnemoneTracking\\data\\processed\\CFP_CYP 2 A \\frame_0866.tiff\n",
      "C:\\Users\\andre\\Documents\\Work\\Projects\\AnemoneTracking\\data\\processed\\CFP_CYP 2 A \\frame_0867.tiff\n",
      "C:\\Users\\andre\\Documents\\Work\\Projects\\AnemoneTracking\\data\\processed\\CFP_CYP 2 A \\frame_0868.tiff\n",
      "C:\\Users\\andre\\Documents\\Work\\Projects\\AnemoneTracking\\data\\processed\\CFP_CYP 2 A \\frame_0869.tiff\n",
      "C:\\Users\\andre\\Documents\\Work\\Projects\\AnemoneTracking\\data\\processed\\CFP_CYP 2 A \\frame_0870.tiff\n",
      "C:\\Users\\andre\\Documents\\Work\\Projects\\AnemoneTracking\\data\\processed\\CFP_CYP 2 A \\frame_0871.tiff\n",
      "C:\\Users\\andre\\Documents\\Work\\Projects\\AnemoneTracking\\data\\processed\\CFP_CYP 2 A \\frame_0872.tiff\n",
      "C:\\Users\\andre\\Documents\\Work\\Projects\\AnemoneTracking\\data\\processed\\CFP_CYP 2 A \\frame_0873.tiff\n",
      "C:\\Users\\andre\\Documents\\Work\\Projects\\AnemoneTracking\\data\\processed\\CFP_CYP 2 A \\frame_0874.tiff\n",
      "C:\\Users\\andre\\Documents\\Work\\Projects\\AnemoneTracking\\data\\processed\\CFP_CYP 2 A \\frame_0875.tiff\n",
      "C:\\Users\\andre\\Documents\\Work\\Projects\\AnemoneTracking\\data\\processed\\CFP_CYP 2 A \\frame_0876.tiff\n",
      "C:\\Users\\andre\\Documents\\Work\\Projects\\AnemoneTracking\\data\\processed\\CFP_CYP 2 A \\frame_0877.tiff\n",
      "C:\\Users\\andre\\Documents\\Work\\Projects\\AnemoneTracking\\data\\processed\\CFP_CYP 2 A \\frame_0878.tiff\n"
     ]
    },
    {
     "name": "stderr",
     "output_type": "stream",
     "text": [
      "Extracting CFP_CYP 2 A :  91%|█████████████████████████████████████████████████▏    | 881/966 [00:03<00:00, 227.93it/s]"
     ]
    },
    {
     "name": "stdout",
     "output_type": "stream",
     "text": [
      "C:\\Users\\andre\\Documents\\Work\\Projects\\AnemoneTracking\\data\\processed\\CFP_CYP 2 A \\frame_0879.tiff\n",
      "C:\\Users\\andre\\Documents\\Work\\Projects\\AnemoneTracking\\data\\processed\\CFP_CYP 2 A \\frame_0880.tiff\n",
      "C:\\Users\\andre\\Documents\\Work\\Projects\\AnemoneTracking\\data\\processed\\CFP_CYP 2 A \\frame_0881.tiff\n",
      "C:\\Users\\andre\\Documents\\Work\\Projects\\AnemoneTracking\\data\\processed\\CFP_CYP 2 A \\frame_0882.tiff\n",
      "C:\\Users\\andre\\Documents\\Work\\Projects\\AnemoneTracking\\data\\processed\\CFP_CYP 2 A \\frame_0883.tiff\n",
      "C:\\Users\\andre\\Documents\\Work\\Projects\\AnemoneTracking\\data\\processed\\CFP_CYP 2 A \\frame_0884.tiff\n",
      "C:\\Users\\andre\\Documents\\Work\\Projects\\AnemoneTracking\\data\\processed\\CFP_CYP 2 A \\frame_0885.tiff\n",
      "C:\\Users\\andre\\Documents\\Work\\Projects\\AnemoneTracking\\data\\processed\\CFP_CYP 2 A \\frame_0886.tiff\n",
      "C:\\Users\\andre\\Documents\\Work\\Projects\\AnemoneTracking\\data\\processed\\CFP_CYP 2 A \\frame_0887.tiff\n",
      "C:\\Users\\andre\\Documents\\Work\\Projects\\AnemoneTracking\\data\\processed\\CFP_CYP 2 A \\frame_0888.tiff\n",
      "C:\\Users\\andre\\Documents\\Work\\Projects\\AnemoneTracking\\data\\processed\\CFP_CYP 2 A \\frame_0889.tiff\n",
      "C:\\Users\\andre\\Documents\\Work\\Projects\\AnemoneTracking\\data\\processed\\CFP_CYP 2 A \\frame_0890.tiff\n",
      "C:\\Users\\andre\\Documents\\Work\\Projects\\AnemoneTracking\\data\\processed\\CFP_CYP 2 A \\frame_0891.tiff\n"
     ]
    },
    {
     "name": "stderr",
     "output_type": "stream",
     "text": [
      "Extracting CFP_CYP 2 A :  96%|████████████████████████████████████████████████████  | 931/966 [00:04<00:00, 237.05it/s]"
     ]
    },
    {
     "name": "stdout",
     "output_type": "stream",
     "text": [
      "C:\\Users\\andre\\Documents\\Work\\Projects\\AnemoneTracking\\data\\processed\\CFP_CYP 2 A \\frame_0892.tiff\n",
      "C:\\Users\\andre\\Documents\\Work\\Projects\\AnemoneTracking\\data\\processed\\CFP_CYP 2 A \\frame_0893.tiff\n",
      "C:\\Users\\andre\\Documents\\Work\\Projects\\AnemoneTracking\\data\\processed\\CFP_CYP 2 A \\frame_0894.tiff\n",
      "C:\\Users\\andre\\Documents\\Work\\Projects\\AnemoneTracking\\data\\processed\\CFP_CYP 2 A \\frame_0895.tiff\n",
      "C:\\Users\\andre\\Documents\\Work\\Projects\\AnemoneTracking\\data\\processed\\CFP_CYP 2 A \\frame_0896.tiff\n",
      "C:\\Users\\andre\\Documents\\Work\\Projects\\AnemoneTracking\\data\\processed\\CFP_CYP 2 A \\frame_0897.tiff\n",
      "C:\\Users\\andre\\Documents\\Work\\Projects\\AnemoneTracking\\data\\processed\\CFP_CYP 2 A \\frame_0898.tiff\n",
      "C:\\Users\\andre\\Documents\\Work\\Projects\\AnemoneTracking\\data\\processed\\CFP_CYP 2 A \\frame_0899.tiff\n",
      "C:\\Users\\andre\\Documents\\Work\\Projects\\AnemoneTracking\\data\\processed\\CFP_CYP 2 A \\frame_0900.tiff\n",
      "C:\\Users\\andre\\Documents\\Work\\Projects\\AnemoneTracking\\data\\processed\\CFP_CYP 2 A \\frame_0901.tiff\n",
      "C:\\Users\\andre\\Documents\\Work\\Projects\\AnemoneTracking\\data\\processed\\CFP_CYP 2 A \\frame_0902.tiff\n",
      "C:\\Users\\andre\\Documents\\Work\\Projects\\AnemoneTracking\\data\\processed\\CFP_CYP 2 A \\frame_0903.tiff\n",
      "C:\\Users\\andre\\Documents\\Work\\Projects\\AnemoneTracking\\data\\processed\\CFP_CYP 2 A \\frame_0904.tiff\n",
      "C:\\Users\\andre\\Documents\\Work\\Projects\\AnemoneTracking\\data\\processed\\CFP_CYP 2 A \\frame_0905.tiff\n",
      "C:\\Users\\andre\\Documents\\Work\\Projects\\AnemoneTracking\\data\\processed\\CFP_CYP 2 A \\frame_0906.tiff\n",
      "C:\\Users\\andre\\Documents\\Work\\Projects\\AnemoneTracking\\data\\processed\\CFP_CYP 2 A \\frame_0907.tiff\n",
      "C:\\Users\\andre\\Documents\\Work\\Projects\\AnemoneTracking\\data\\processed\\CFP_CYP 2 A \\frame_0908.tiff\n",
      "C:\\Users\\andre\\Documents\\Work\\Projects\\AnemoneTracking\\data\\processed\\CFP_CYP 2 A \\frame_0909.tiff\n",
      "C:\\Users\\andre\\Documents\\Work\\Projects\\AnemoneTracking\\data\\processed\\CFP_CYP 2 A \\frame_0910.tiff\n",
      "C:\\Users\\andre\\Documents\\Work\\Projects\\AnemoneTracking\\data\\processed\\CFP_CYP 2 A \\frame_0911.tiff\n",
      "C:\\Users\\andre\\Documents\\Work\\Projects\\AnemoneTracking\\data\\processed\\CFP_CYP 2 A \\frame_0912.tiff\n",
      "C:\\Users\\andre\\Documents\\Work\\Projects\\AnemoneTracking\\data\\processed\\CFP_CYP 2 A \\frame_0913.tiff\n",
      "C:\\Users\\andre\\Documents\\Work\\Projects\\AnemoneTracking\\data\\processed\\CFP_CYP 2 A \\frame_0914.tiff\n",
      "C:\\Users\\andre\\Documents\\Work\\Projects\\AnemoneTracking\\data\\processed\\CFP_CYP 2 A \\frame_0915.tiff\n",
      "C:\\Users\\andre\\Documents\\Work\\Projects\\AnemoneTracking\\data\\processed\\CFP_CYP 2 A \\frame_0916.tiff\n",
      "C:\\Users\\andre\\Documents\\Work\\Projects\\AnemoneTracking\\data\\processed\\CFP_CYP 2 A \\frame_0917.tiff\n",
      "C:\\Users\\andre\\Documents\\Work\\Projects\\AnemoneTracking\\data\\processed\\CFP_CYP 2 A \\frame_0918.tiff\n",
      "C:\\Users\\andre\\Documents\\Work\\Projects\\AnemoneTracking\\data\\processed\\CFP_CYP 2 A \\frame_0919.tiff\n",
      "C:\\Users\\andre\\Documents\\Work\\Projects\\AnemoneTracking\\data\\processed\\CFP_CYP 2 A \\frame_0920.tiff\n",
      "C:\\Users\\andre\\Documents\\Work\\Projects\\AnemoneTracking\\data\\processed\\CFP_CYP 2 A \\frame_0921.tiff\n",
      "C:\\Users\\andre\\Documents\\Work\\Projects\\AnemoneTracking\\data\\processed\\CFP_CYP 2 A \\frame_0922.tiff\n",
      "C:\\Users\\andre\\Documents\\Work\\Projects\\AnemoneTracking\\data\\processed\\CFP_CYP 2 A \\frame_0923.tiff\n",
      "C:\\Users\\andre\\Documents\\Work\\Projects\\AnemoneTracking\\data\\processed\\CFP_CYP 2 A \\frame_0924.tiff\n",
      "C:\\Users\\andre\\Documents\\Work\\Projects\\AnemoneTracking\\data\\processed\\CFP_CYP 2 A \\frame_0925.tiff\n",
      "C:\\Users\\andre\\Documents\\Work\\Projects\\AnemoneTracking\\data\\processed\\CFP_CYP 2 A \\frame_0926.tiff\n",
      "C:\\Users\\andre\\Documents\\Work\\Projects\\AnemoneTracking\\data\\processed\\CFP_CYP 2 A \\frame_0927.tiff\n",
      "C:\\Users\\andre\\Documents\\Work\\Projects\\AnemoneTracking\\data\\processed\\CFP_CYP 2 A \\frame_0928.tiff\n",
      "C:\\Users\\andre\\Documents\\Work\\Projects\\AnemoneTracking\\data\\processed\\CFP_CYP 2 A \\frame_0929.tiff\n",
      "C:\\Users\\andre\\Documents\\Work\\Projects\\AnemoneTracking\\data\\processed\\CFP_CYP 2 A \\frame_0930.tiff\n",
      "C:\\Users\\andre\\Documents\\Work\\Projects\\AnemoneTracking\\data\\processed\\CFP_CYP 2 A \\frame_0931.tiff\n",
      "C:\\Users\\andre\\Documents\\Work\\Projects\\AnemoneTracking\\data\\processed\\CFP_CYP 2 A \\frame_0932.tiff\n",
      "C:\\Users\\andre\\Documents\\Work\\Projects\\AnemoneTracking\\data\\processed\\CFP_CYP 2 A \\frame_0933.tiff\n",
      "C:\\Users\\andre\\Documents\\Work\\Projects\\AnemoneTracking\\data\\processed\\CFP_CYP 2 A \\frame_0934.tiff\n",
      "C:\\Users\\andre\\Documents\\Work\\Projects\\AnemoneTracking\\data\\processed\\CFP_CYP 2 A \\frame_0935.tiff\n",
      "C:\\Users\\andre\\Documents\\Work\\Projects\\AnemoneTracking\\data\\processed\\CFP_CYP 2 A \\frame_0936.tiff\n",
      "C:\\Users\\andre\\Documents\\Work\\Projects\\AnemoneTracking\\data\\processed\\CFP_CYP 2 A \\frame_0937.tiff\n",
      "C:\\Users\\andre\\Documents\\Work\\Projects\\AnemoneTracking\\data\\processed\\CFP_CYP 2 A \\frame_0938.tiff\n",
      "C:\\Users\\andre\\Documents\\Work\\Projects\\AnemoneTracking\\data\\processed\\CFP_CYP 2 A \\frame_0939.tiff\n",
      "C:\\Users\\andre\\Documents\\Work\\Projects\\AnemoneTracking\\data\\processed\\CFP_CYP 2 A \\frame_0940.tiff\n"
     ]
    },
    {
     "name": "stderr",
     "output_type": "stream",
     "text": [
      "Extracting CFP_CYP 2 A : 100%|██████████████████████████████████████████████████████| 966/966 [00:04<00:00, 229.09it/s]"
     ]
    },
    {
     "name": "stdout",
     "output_type": "stream",
     "text": [
      "C:\\Users\\andre\\Documents\\Work\\Projects\\AnemoneTracking\\data\\processed\\CFP_CYP 2 A \\frame_0941.tiff\n",
      "C:\\Users\\andre\\Documents\\Work\\Projects\\AnemoneTracking\\data\\processed\\CFP_CYP 2 A \\frame_0942.tiff\n",
      "C:\\Users\\andre\\Documents\\Work\\Projects\\AnemoneTracking\\data\\processed\\CFP_CYP 2 A \\frame_0943.tiff\n",
      "C:\\Users\\andre\\Documents\\Work\\Projects\\AnemoneTracking\\data\\processed\\CFP_CYP 2 A \\frame_0944.tiff\n",
      "C:\\Users\\andre\\Documents\\Work\\Projects\\AnemoneTracking\\data\\processed\\CFP_CYP 2 A \\frame_0945.tiff\n",
      "C:\\Users\\andre\\Documents\\Work\\Projects\\AnemoneTracking\\data\\processed\\CFP_CYP 2 A \\frame_0946.tiff\n",
      "C:\\Users\\andre\\Documents\\Work\\Projects\\AnemoneTracking\\data\\processed\\CFP_CYP 2 A \\frame_0947.tiff\n",
      "C:\\Users\\andre\\Documents\\Work\\Projects\\AnemoneTracking\\data\\processed\\CFP_CYP 2 A \\frame_0948.tiff\n",
      "C:\\Users\\andre\\Documents\\Work\\Projects\\AnemoneTracking\\data\\processed\\CFP_CYP 2 A \\frame_0949.tiff\n",
      "C:\\Users\\andre\\Documents\\Work\\Projects\\AnemoneTracking\\data\\processed\\CFP_CYP 2 A \\frame_0950.tiff\n",
      "C:\\Users\\andre\\Documents\\Work\\Projects\\AnemoneTracking\\data\\processed\\CFP_CYP 2 A \\frame_0951.tiff\n",
      "C:\\Users\\andre\\Documents\\Work\\Projects\\AnemoneTracking\\data\\processed\\CFP_CYP 2 A \\frame_0952.tiff\n",
      "C:\\Users\\andre\\Documents\\Work\\Projects\\AnemoneTracking\\data\\processed\\CFP_CYP 2 A \\frame_0953.tiff\n",
      "C:\\Users\\andre\\Documents\\Work\\Projects\\AnemoneTracking\\data\\processed\\CFP_CYP 2 A \\frame_0954.tiff\n",
      "C:\\Users\\andre\\Documents\\Work\\Projects\\AnemoneTracking\\data\\processed\\CFP_CYP 2 A \\frame_0955.tiff\n",
      "C:\\Users\\andre\\Documents\\Work\\Projects\\AnemoneTracking\\data\\processed\\CFP_CYP 2 A \\frame_0956.tiff\n",
      "C:\\Users\\andre\\Documents\\Work\\Projects\\AnemoneTracking\\data\\processed\\CFP_CYP 2 A \\frame_0957.tiff\n",
      "C:\\Users\\andre\\Documents\\Work\\Projects\\AnemoneTracking\\data\\processed\\CFP_CYP 2 A \\frame_0958.tiff\n",
      "C:\\Users\\andre\\Documents\\Work\\Projects\\AnemoneTracking\\data\\processed\\CFP_CYP 2 A \\frame_0959.tiff\n",
      "C:\\Users\\andre\\Documents\\Work\\Projects\\AnemoneTracking\\data\\processed\\CFP_CYP 2 A \\frame_0960.tiff\n",
      "C:\\Users\\andre\\Documents\\Work\\Projects\\AnemoneTracking\\data\\processed\\CFP_CYP 2 A \\frame_0961.tiff\n",
      "C:\\Users\\andre\\Documents\\Work\\Projects\\AnemoneTracking\\data\\processed\\CFP_CYP 2 A \\frame_0962.tiff\n",
      "C:\\Users\\andre\\Documents\\Work\\Projects\\AnemoneTracking\\data\\processed\\CFP_CYP 2 A \\frame_0963.tiff\n",
      "C:\\Users\\andre\\Documents\\Work\\Projects\\AnemoneTracking\\data\\processed\\CFP_CYP 2 A \\frame_0964.tiff\n",
      "C:\\Users\\andre\\Documents\\Work\\Projects\\AnemoneTracking\\data\\processed\\CFP_CYP 2 A \\frame_0965.tiff\n",
      "{'CFP_CYP 2 A': [], 'CPF_CYP': [], 'Control': []}\n"
     ]
    },
    {
     "name": "stderr",
     "output_type": "stream",
     "text": [
      "\n"
     ]
    }
   ],
   "source": [
    "# Run the conversion\n",
    "convert_videos_to_tiff_frames(input_dir, output_dir)\n",
    "\n",
    "# Display Output Folder Structure ---\n",
    "pprint(list_output_structure(output_dir))\n"
   ]
  },
  {
   "cell_type": "code",
   "execution_count": null,
   "id": "8bef416e-3155-4a2e-9aa9-dfa0a667eff0",
   "metadata": {},
   "outputs": [],
   "source": []
  }
 ],
 "metadata": {
  "kernelspec": {
   "display_name": "Python 3 (ipykernel)",
   "language": "python",
   "name": "python3"
  },
  "language_info": {
   "codemirror_mode": {
    "name": "ipython",
    "version": 3
   },
   "file_extension": ".py",
   "mimetype": "text/x-python",
   "name": "python",
   "nbconvert_exporter": "python",
   "pygments_lexer": "ipython3",
   "version": "3.10.16"
  }
 },
 "nbformat": 4,
 "nbformat_minor": 5
}
